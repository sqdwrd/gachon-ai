{
 "cells": [
  {
   "cell_type": "code",
   "execution_count": 1,
   "metadata": {},
   "outputs": [
    {
     "data": {
      "application/vnd.microsoft.datawrangler.viewer.v0+json": {
       "columns": [
        {
         "name": "index",
         "rawType": "int64",
         "type": "integer"
        },
        {
         "name": "buying",
         "rawType": "object",
         "type": "string"
        },
        {
         "name": "maint",
         "rawType": "object",
         "type": "string"
        },
        {
         "name": "doors",
         "rawType": "object",
         "type": "string"
        },
        {
         "name": "persons",
         "rawType": "object",
         "type": "string"
        },
        {
         "name": "lug_boot",
         "rawType": "object",
         "type": "string"
        },
        {
         "name": "safety",
         "rawType": "object",
         "type": "string"
        },
        {
         "name": "class",
         "rawType": "object",
         "type": "string"
        }
       ],
       "conversionMethod": "pd.DataFrame",
       "ref": "edf2b8c1-9da8-4c65-95f2-cf7d153021c5",
       "rows": [
        [
         "0",
         "vhigh",
         "vhigh",
         "2",
         "2",
         "small",
         "low",
         "unacc"
        ],
        [
         "1",
         "vhigh",
         "vhigh",
         "2",
         "2",
         "small",
         "med",
         "unacc"
        ],
        [
         "2",
         "vhigh",
         "vhigh",
         "2",
         "2",
         "small",
         "high",
         "unacc"
        ],
        [
         "3",
         "vhigh",
         "vhigh",
         "2",
         "2",
         "med",
         "low",
         "unacc"
        ],
        [
         "4",
         "vhigh",
         "vhigh",
         "2",
         "2",
         "med",
         "med",
         "unacc"
        ],
        [
         "5",
         "vhigh",
         "vhigh",
         "2",
         "2",
         "med",
         "high",
         "unacc"
        ],
        [
         "6",
         "vhigh",
         "vhigh",
         "2",
         "2",
         "big",
         "low",
         "unacc"
        ],
        [
         "7",
         "vhigh",
         "vhigh",
         "2",
         "2",
         "big",
         "med",
         "unacc"
        ],
        [
         "8",
         "vhigh",
         "vhigh",
         "2",
         "2",
         "big",
         "high",
         "unacc"
        ],
        [
         "9",
         "vhigh",
         "vhigh",
         "2",
         "4",
         "small",
         "low",
         "unacc"
        ],
        [
         "10",
         "vhigh",
         "vhigh",
         "2",
         "4",
         "small",
         "med",
         "unacc"
        ],
        [
         "11",
         "vhigh",
         "vhigh",
         "2",
         "4",
         "small",
         "high",
         "unacc"
        ],
        [
         "12",
         "vhigh",
         "vhigh",
         "2",
         "4",
         "med",
         "low",
         "unacc"
        ],
        [
         "13",
         "vhigh",
         "vhigh",
         "2",
         "4",
         "med",
         "med",
         "unacc"
        ],
        [
         "14",
         "vhigh",
         "vhigh",
         "2",
         "4",
         "med",
         "high",
         "unacc"
        ],
        [
         "15",
         "vhigh",
         "vhigh",
         "2",
         "4",
         "big",
         "low",
         "unacc"
        ],
        [
         "16",
         "vhigh",
         "vhigh",
         "2",
         "4",
         "big",
         "med",
         "unacc"
        ],
        [
         "17",
         "vhigh",
         "vhigh",
         "2",
         "4",
         "big",
         "high",
         "unacc"
        ],
        [
         "18",
         "vhigh",
         "vhigh",
         "2",
         "more",
         "small",
         "low",
         "unacc"
        ],
        [
         "19",
         "vhigh",
         "vhigh",
         "2",
         "more",
         "small",
         "med",
         "unacc"
        ],
        [
         "20",
         "vhigh",
         "vhigh",
         "2",
         "more",
         "small",
         "high",
         "unacc"
        ],
        [
         "21",
         "vhigh",
         "vhigh",
         "2",
         "more",
         "med",
         "low",
         "unacc"
        ],
        [
         "22",
         "vhigh",
         "vhigh",
         "2",
         "more",
         "med",
         "med",
         "unacc"
        ],
        [
         "23",
         "vhigh",
         "vhigh",
         "2",
         "more",
         "med",
         "high",
         "unacc"
        ],
        [
         "24",
         "vhigh",
         "vhigh",
         "2",
         "more",
         "big",
         "low",
         "unacc"
        ],
        [
         "25",
         "vhigh",
         "vhigh",
         "2",
         "more",
         "big",
         "med",
         "unacc"
        ],
        [
         "26",
         "vhigh",
         "vhigh",
         "2",
         "more",
         "big",
         "high",
         "unacc"
        ],
        [
         "27",
         "vhigh",
         "vhigh",
         "3",
         "2",
         "small",
         "low",
         "unacc"
        ],
        [
         "28",
         "vhigh",
         "vhigh",
         "3",
         "2",
         "small",
         "med",
         "unacc"
        ],
        [
         "29",
         "vhigh",
         "vhigh",
         "3",
         "2",
         "small",
         "high",
         "unacc"
        ],
        [
         "30",
         "vhigh",
         "vhigh",
         "3",
         "2",
         "med",
         "low",
         "unacc"
        ],
        [
         "31",
         "vhigh",
         "vhigh",
         "3",
         "2",
         "med",
         "med",
         "unacc"
        ],
        [
         "32",
         "vhigh",
         "vhigh",
         "3",
         "2",
         "med",
         "high",
         "unacc"
        ],
        [
         "33",
         "vhigh",
         "vhigh",
         "3",
         "2",
         "big",
         "low",
         "unacc"
        ],
        [
         "34",
         "vhigh",
         "vhigh",
         "3",
         "2",
         "big",
         "med",
         "unacc"
        ],
        [
         "35",
         "vhigh",
         "vhigh",
         "3",
         "2",
         "big",
         "high",
         "unacc"
        ],
        [
         "36",
         "vhigh",
         "vhigh",
         "3",
         "4",
         "small",
         "low",
         "unacc"
        ],
        [
         "37",
         "vhigh",
         "vhigh",
         "3",
         "4",
         "small",
         "med",
         "unacc"
        ],
        [
         "38",
         "vhigh",
         "vhigh",
         "3",
         "4",
         "small",
         "high",
         "unacc"
        ],
        [
         "39",
         "vhigh",
         "vhigh",
         "3",
         "4",
         "med",
         "low",
         "unacc"
        ],
        [
         "40",
         "vhigh",
         "vhigh",
         "3",
         "4",
         "med",
         "med",
         "unacc"
        ],
        [
         "41",
         "vhigh",
         "vhigh",
         "3",
         "4",
         "med",
         "high",
         "unacc"
        ],
        [
         "42",
         "vhigh",
         "vhigh",
         "3",
         "4",
         "big",
         "low",
         "unacc"
        ],
        [
         "43",
         "vhigh",
         "vhigh",
         "3",
         "4",
         "big",
         "med",
         "unacc"
        ],
        [
         "44",
         "vhigh",
         "vhigh",
         "3",
         "4",
         "big",
         "high",
         "unacc"
        ],
        [
         "45",
         "vhigh",
         "vhigh",
         "3",
         "more",
         "small",
         "low",
         "unacc"
        ],
        [
         "46",
         "vhigh",
         "vhigh",
         "3",
         "more",
         "small",
         "med",
         "unacc"
        ],
        [
         "47",
         "vhigh",
         "vhigh",
         "3",
         "more",
         "small",
         "high",
         "unacc"
        ],
        [
         "48",
         "vhigh",
         "vhigh",
         "3",
         "more",
         "med",
         "low",
         "unacc"
        ],
        [
         "49",
         "vhigh",
         "vhigh",
         "3",
         "more",
         "med",
         "med",
         "unacc"
        ]
       ],
       "shape": {
        "columns": 7,
        "rows": 1728
       }
      },
      "text/html": [
       "<div>\n",
       "<style scoped>\n",
       "    .dataframe tbody tr th:only-of-type {\n",
       "        vertical-align: middle;\n",
       "    }\n",
       "\n",
       "    .dataframe tbody tr th {\n",
       "        vertical-align: top;\n",
       "    }\n",
       "\n",
       "    .dataframe thead th {\n",
       "        text-align: right;\n",
       "    }\n",
       "</style>\n",
       "<table border=\"1\" class=\"dataframe\">\n",
       "  <thead>\n",
       "    <tr style=\"text-align: right;\">\n",
       "      <th></th>\n",
       "      <th>buying</th>\n",
       "      <th>maint</th>\n",
       "      <th>doors</th>\n",
       "      <th>persons</th>\n",
       "      <th>lug_boot</th>\n",
       "      <th>safety</th>\n",
       "      <th>class</th>\n",
       "    </tr>\n",
       "  </thead>\n",
       "  <tbody>\n",
       "    <tr>\n",
       "      <th>0</th>\n",
       "      <td>vhigh</td>\n",
       "      <td>vhigh</td>\n",
       "      <td>2</td>\n",
       "      <td>2</td>\n",
       "      <td>small</td>\n",
       "      <td>low</td>\n",
       "      <td>unacc</td>\n",
       "    </tr>\n",
       "    <tr>\n",
       "      <th>1</th>\n",
       "      <td>vhigh</td>\n",
       "      <td>vhigh</td>\n",
       "      <td>2</td>\n",
       "      <td>2</td>\n",
       "      <td>small</td>\n",
       "      <td>med</td>\n",
       "      <td>unacc</td>\n",
       "    </tr>\n",
       "    <tr>\n",
       "      <th>2</th>\n",
       "      <td>vhigh</td>\n",
       "      <td>vhigh</td>\n",
       "      <td>2</td>\n",
       "      <td>2</td>\n",
       "      <td>small</td>\n",
       "      <td>high</td>\n",
       "      <td>unacc</td>\n",
       "    </tr>\n",
       "    <tr>\n",
       "      <th>3</th>\n",
       "      <td>vhigh</td>\n",
       "      <td>vhigh</td>\n",
       "      <td>2</td>\n",
       "      <td>2</td>\n",
       "      <td>med</td>\n",
       "      <td>low</td>\n",
       "      <td>unacc</td>\n",
       "    </tr>\n",
       "    <tr>\n",
       "      <th>4</th>\n",
       "      <td>vhigh</td>\n",
       "      <td>vhigh</td>\n",
       "      <td>2</td>\n",
       "      <td>2</td>\n",
       "      <td>med</td>\n",
       "      <td>med</td>\n",
       "      <td>unacc</td>\n",
       "    </tr>\n",
       "    <tr>\n",
       "      <th>...</th>\n",
       "      <td>...</td>\n",
       "      <td>...</td>\n",
       "      <td>...</td>\n",
       "      <td>...</td>\n",
       "      <td>...</td>\n",
       "      <td>...</td>\n",
       "      <td>...</td>\n",
       "    </tr>\n",
       "    <tr>\n",
       "      <th>1723</th>\n",
       "      <td>low</td>\n",
       "      <td>low</td>\n",
       "      <td>5more</td>\n",
       "      <td>more</td>\n",
       "      <td>med</td>\n",
       "      <td>med</td>\n",
       "      <td>good</td>\n",
       "    </tr>\n",
       "    <tr>\n",
       "      <th>1724</th>\n",
       "      <td>low</td>\n",
       "      <td>low</td>\n",
       "      <td>5more</td>\n",
       "      <td>more</td>\n",
       "      <td>med</td>\n",
       "      <td>high</td>\n",
       "      <td>vgood</td>\n",
       "    </tr>\n",
       "    <tr>\n",
       "      <th>1725</th>\n",
       "      <td>low</td>\n",
       "      <td>low</td>\n",
       "      <td>5more</td>\n",
       "      <td>more</td>\n",
       "      <td>big</td>\n",
       "      <td>low</td>\n",
       "      <td>unacc</td>\n",
       "    </tr>\n",
       "    <tr>\n",
       "      <th>1726</th>\n",
       "      <td>low</td>\n",
       "      <td>low</td>\n",
       "      <td>5more</td>\n",
       "      <td>more</td>\n",
       "      <td>big</td>\n",
       "      <td>med</td>\n",
       "      <td>good</td>\n",
       "    </tr>\n",
       "    <tr>\n",
       "      <th>1727</th>\n",
       "      <td>low</td>\n",
       "      <td>low</td>\n",
       "      <td>5more</td>\n",
       "      <td>more</td>\n",
       "      <td>big</td>\n",
       "      <td>high</td>\n",
       "      <td>vgood</td>\n",
       "    </tr>\n",
       "  </tbody>\n",
       "</table>\n",
       "<p>1728 rows × 7 columns</p>\n",
       "</div>"
      ],
      "text/plain": [
       "     buying  maint  doors persons lug_boot safety  class\n",
       "0     vhigh  vhigh      2       2    small    low  unacc\n",
       "1     vhigh  vhigh      2       2    small    med  unacc\n",
       "2     vhigh  vhigh      2       2    small   high  unacc\n",
       "3     vhigh  vhigh      2       2      med    low  unacc\n",
       "4     vhigh  vhigh      2       2      med    med  unacc\n",
       "...     ...    ...    ...     ...      ...    ...    ...\n",
       "1723    low    low  5more    more      med    med   good\n",
       "1724    low    low  5more    more      med   high  vgood\n",
       "1725    low    low  5more    more      big    low  unacc\n",
       "1726    low    low  5more    more      big    med   good\n",
       "1727    low    low  5more    more      big   high  vgood\n",
       "\n",
       "[1728 rows x 7 columns]"
      ]
     },
     "execution_count": 1,
     "metadata": {},
     "output_type": "execute_result"
    }
   ],
   "source": [
    "import pandas as pd\n",
    "import numpy as np\n",
    "\n",
    "from sklearn.model_selection import train_test_split\n",
    "from sklearn.preprocessing import LabelEncoder\n",
    "import tensorflow as tf\n",
    "\n",
    "column_names = ['buying', 'maint', 'doors', 'persons', 'lug_boot', 'safety', 'class']\n",
    "df = pd.read_csv(\"~/dev/gachon-ai/datasets/car_evaluation.csv\", names=column_names, header=None)\n",
    "df"
   ]
  },
  {
   "cell_type": "code",
   "execution_count": 2,
   "metadata": {},
   "outputs": [
    {
     "data": {
      "text/plain": [
       "buying      0\n",
       "maint       0\n",
       "doors       0\n",
       "persons     0\n",
       "lug_boot    0\n",
       "safety      0\n",
       "class       0\n",
       "dtype: int64"
      ]
     },
     "execution_count": 2,
     "metadata": {},
     "output_type": "execute_result"
    }
   ],
   "source": [
    "df.isnull().sum()"
   ]
  },
  {
   "cell_type": "code",
   "execution_count": 3,
   "metadata": {},
   "outputs": [],
   "source": [
    "y = df[\"class\"]\n",
    "X = df.drop(\"class\", axis=1)"
   ]
  },
  {
   "cell_type": "code",
   "execution_count": 4,
   "metadata": {},
   "outputs": [],
   "source": [
    "X = pd.get_dummies(X)\n",
    "y = pd.get_dummies(y)"
   ]
  },
  {
   "cell_type": "code",
   "execution_count": 5,
   "metadata": {},
   "outputs": [
    {
     "data": {
      "application/vnd.microsoft.datawrangler.viewer.v0+json": {
       "columns": [
        {
         "name": "index",
         "rawType": "int64",
         "type": "integer"
        },
        {
         "name": "buying_high",
         "rawType": "bool",
         "type": "boolean"
        },
        {
         "name": "buying_low",
         "rawType": "bool",
         "type": "boolean"
        },
        {
         "name": "buying_med",
         "rawType": "bool",
         "type": "boolean"
        },
        {
         "name": "buying_vhigh",
         "rawType": "bool",
         "type": "boolean"
        },
        {
         "name": "maint_high",
         "rawType": "bool",
         "type": "boolean"
        },
        {
         "name": "maint_low",
         "rawType": "bool",
         "type": "boolean"
        },
        {
         "name": "maint_med",
         "rawType": "bool",
         "type": "boolean"
        },
        {
         "name": "maint_vhigh",
         "rawType": "bool",
         "type": "boolean"
        },
        {
         "name": "doors_2",
         "rawType": "bool",
         "type": "boolean"
        },
        {
         "name": "doors_3",
         "rawType": "bool",
         "type": "boolean"
        },
        {
         "name": "doors_4",
         "rawType": "bool",
         "type": "boolean"
        },
        {
         "name": "doors_5more",
         "rawType": "bool",
         "type": "boolean"
        },
        {
         "name": "persons_2",
         "rawType": "bool",
         "type": "boolean"
        },
        {
         "name": "persons_4",
         "rawType": "bool",
         "type": "boolean"
        },
        {
         "name": "persons_more",
         "rawType": "bool",
         "type": "boolean"
        },
        {
         "name": "lug_boot_big",
         "rawType": "bool",
         "type": "boolean"
        },
        {
         "name": "lug_boot_med",
         "rawType": "bool",
         "type": "boolean"
        },
        {
         "name": "lug_boot_small",
         "rawType": "bool",
         "type": "boolean"
        },
        {
         "name": "safety_high",
         "rawType": "bool",
         "type": "boolean"
        },
        {
         "name": "safety_low",
         "rawType": "bool",
         "type": "boolean"
        },
        {
         "name": "safety_med",
         "rawType": "bool",
         "type": "boolean"
        }
       ],
       "conversionMethod": "pd.DataFrame",
       "ref": "a21691bb-ce5c-4496-937c-5f5227647655",
       "rows": [
        [
         "0",
         "False",
         "False",
         "False",
         "True",
         "False",
         "False",
         "False",
         "True",
         "True",
         "False",
         "False",
         "False",
         "True",
         "False",
         "False",
         "False",
         "False",
         "True",
         "False",
         "True",
         "False"
        ],
        [
         "1",
         "False",
         "False",
         "False",
         "True",
         "False",
         "False",
         "False",
         "True",
         "True",
         "False",
         "False",
         "False",
         "True",
         "False",
         "False",
         "False",
         "False",
         "True",
         "False",
         "False",
         "True"
        ],
        [
         "2",
         "False",
         "False",
         "False",
         "True",
         "False",
         "False",
         "False",
         "True",
         "True",
         "False",
         "False",
         "False",
         "True",
         "False",
         "False",
         "False",
         "False",
         "True",
         "True",
         "False",
         "False"
        ],
        [
         "3",
         "False",
         "False",
         "False",
         "True",
         "False",
         "False",
         "False",
         "True",
         "True",
         "False",
         "False",
         "False",
         "True",
         "False",
         "False",
         "False",
         "True",
         "False",
         "False",
         "True",
         "False"
        ],
        [
         "4",
         "False",
         "False",
         "False",
         "True",
         "False",
         "False",
         "False",
         "True",
         "True",
         "False",
         "False",
         "False",
         "True",
         "False",
         "False",
         "False",
         "True",
         "False",
         "False",
         "False",
         "True"
        ]
       ],
       "shape": {
        "columns": 21,
        "rows": 5
       }
      },
      "text/html": [
       "<div>\n",
       "<style scoped>\n",
       "    .dataframe tbody tr th:only-of-type {\n",
       "        vertical-align: middle;\n",
       "    }\n",
       "\n",
       "    .dataframe tbody tr th {\n",
       "        vertical-align: top;\n",
       "    }\n",
       "\n",
       "    .dataframe thead th {\n",
       "        text-align: right;\n",
       "    }\n",
       "</style>\n",
       "<table border=\"1\" class=\"dataframe\">\n",
       "  <thead>\n",
       "    <tr style=\"text-align: right;\">\n",
       "      <th></th>\n",
       "      <th>buying_high</th>\n",
       "      <th>buying_low</th>\n",
       "      <th>buying_med</th>\n",
       "      <th>buying_vhigh</th>\n",
       "      <th>maint_high</th>\n",
       "      <th>maint_low</th>\n",
       "      <th>maint_med</th>\n",
       "      <th>maint_vhigh</th>\n",
       "      <th>doors_2</th>\n",
       "      <th>doors_3</th>\n",
       "      <th>...</th>\n",
       "      <th>doors_5more</th>\n",
       "      <th>persons_2</th>\n",
       "      <th>persons_4</th>\n",
       "      <th>persons_more</th>\n",
       "      <th>lug_boot_big</th>\n",
       "      <th>lug_boot_med</th>\n",
       "      <th>lug_boot_small</th>\n",
       "      <th>safety_high</th>\n",
       "      <th>safety_low</th>\n",
       "      <th>safety_med</th>\n",
       "    </tr>\n",
       "  </thead>\n",
       "  <tbody>\n",
       "    <tr>\n",
       "      <th>0</th>\n",
       "      <td>False</td>\n",
       "      <td>False</td>\n",
       "      <td>False</td>\n",
       "      <td>True</td>\n",
       "      <td>False</td>\n",
       "      <td>False</td>\n",
       "      <td>False</td>\n",
       "      <td>True</td>\n",
       "      <td>True</td>\n",
       "      <td>False</td>\n",
       "      <td>...</td>\n",
       "      <td>False</td>\n",
       "      <td>True</td>\n",
       "      <td>False</td>\n",
       "      <td>False</td>\n",
       "      <td>False</td>\n",
       "      <td>False</td>\n",
       "      <td>True</td>\n",
       "      <td>False</td>\n",
       "      <td>True</td>\n",
       "      <td>False</td>\n",
       "    </tr>\n",
       "    <tr>\n",
       "      <th>1</th>\n",
       "      <td>False</td>\n",
       "      <td>False</td>\n",
       "      <td>False</td>\n",
       "      <td>True</td>\n",
       "      <td>False</td>\n",
       "      <td>False</td>\n",
       "      <td>False</td>\n",
       "      <td>True</td>\n",
       "      <td>True</td>\n",
       "      <td>False</td>\n",
       "      <td>...</td>\n",
       "      <td>False</td>\n",
       "      <td>True</td>\n",
       "      <td>False</td>\n",
       "      <td>False</td>\n",
       "      <td>False</td>\n",
       "      <td>False</td>\n",
       "      <td>True</td>\n",
       "      <td>False</td>\n",
       "      <td>False</td>\n",
       "      <td>True</td>\n",
       "    </tr>\n",
       "    <tr>\n",
       "      <th>2</th>\n",
       "      <td>False</td>\n",
       "      <td>False</td>\n",
       "      <td>False</td>\n",
       "      <td>True</td>\n",
       "      <td>False</td>\n",
       "      <td>False</td>\n",
       "      <td>False</td>\n",
       "      <td>True</td>\n",
       "      <td>True</td>\n",
       "      <td>False</td>\n",
       "      <td>...</td>\n",
       "      <td>False</td>\n",
       "      <td>True</td>\n",
       "      <td>False</td>\n",
       "      <td>False</td>\n",
       "      <td>False</td>\n",
       "      <td>False</td>\n",
       "      <td>True</td>\n",
       "      <td>True</td>\n",
       "      <td>False</td>\n",
       "      <td>False</td>\n",
       "    </tr>\n",
       "    <tr>\n",
       "      <th>3</th>\n",
       "      <td>False</td>\n",
       "      <td>False</td>\n",
       "      <td>False</td>\n",
       "      <td>True</td>\n",
       "      <td>False</td>\n",
       "      <td>False</td>\n",
       "      <td>False</td>\n",
       "      <td>True</td>\n",
       "      <td>True</td>\n",
       "      <td>False</td>\n",
       "      <td>...</td>\n",
       "      <td>False</td>\n",
       "      <td>True</td>\n",
       "      <td>False</td>\n",
       "      <td>False</td>\n",
       "      <td>False</td>\n",
       "      <td>True</td>\n",
       "      <td>False</td>\n",
       "      <td>False</td>\n",
       "      <td>True</td>\n",
       "      <td>False</td>\n",
       "    </tr>\n",
       "    <tr>\n",
       "      <th>4</th>\n",
       "      <td>False</td>\n",
       "      <td>False</td>\n",
       "      <td>False</td>\n",
       "      <td>True</td>\n",
       "      <td>False</td>\n",
       "      <td>False</td>\n",
       "      <td>False</td>\n",
       "      <td>True</td>\n",
       "      <td>True</td>\n",
       "      <td>False</td>\n",
       "      <td>...</td>\n",
       "      <td>False</td>\n",
       "      <td>True</td>\n",
       "      <td>False</td>\n",
       "      <td>False</td>\n",
       "      <td>False</td>\n",
       "      <td>True</td>\n",
       "      <td>False</td>\n",
       "      <td>False</td>\n",
       "      <td>False</td>\n",
       "      <td>True</td>\n",
       "    </tr>\n",
       "  </tbody>\n",
       "</table>\n",
       "<p>5 rows × 21 columns</p>\n",
       "</div>"
      ],
      "text/plain": [
       "   buying_high  buying_low  buying_med  buying_vhigh  maint_high  maint_low  \\\n",
       "0        False       False       False          True       False      False   \n",
       "1        False       False       False          True       False      False   \n",
       "2        False       False       False          True       False      False   \n",
       "3        False       False       False          True       False      False   \n",
       "4        False       False       False          True       False      False   \n",
       "\n",
       "   maint_med  maint_vhigh  doors_2  doors_3  ...  doors_5more  persons_2  \\\n",
       "0      False         True     True    False  ...        False       True   \n",
       "1      False         True     True    False  ...        False       True   \n",
       "2      False         True     True    False  ...        False       True   \n",
       "3      False         True     True    False  ...        False       True   \n",
       "4      False         True     True    False  ...        False       True   \n",
       "\n",
       "   persons_4  persons_more  lug_boot_big  lug_boot_med  lug_boot_small  \\\n",
       "0      False         False         False         False            True   \n",
       "1      False         False         False         False            True   \n",
       "2      False         False         False         False            True   \n",
       "3      False         False         False          True           False   \n",
       "4      False         False         False          True           False   \n",
       "\n",
       "   safety_high  safety_low  safety_med  \n",
       "0        False        True       False  \n",
       "1        False       False        True  \n",
       "2         True       False       False  \n",
       "3        False        True       False  \n",
       "4        False       False        True  \n",
       "\n",
       "[5 rows x 21 columns]"
      ]
     },
     "execution_count": 5,
     "metadata": {},
     "output_type": "execute_result"
    }
   ],
   "source": [
    "X.head()"
   ]
  },
  {
   "cell_type": "code",
   "execution_count": 6,
   "metadata": {},
   "outputs": [
    {
     "data": {
      "application/vnd.microsoft.datawrangler.viewer.v0+json": {
       "columns": [
        {
         "name": "index",
         "rawType": "int64",
         "type": "integer"
        },
        {
         "name": "acc",
         "rawType": "bool",
         "type": "boolean"
        },
        {
         "name": "good",
         "rawType": "bool",
         "type": "boolean"
        },
        {
         "name": "unacc",
         "rawType": "bool",
         "type": "boolean"
        },
        {
         "name": "vgood",
         "rawType": "bool",
         "type": "boolean"
        }
       ],
       "conversionMethod": "pd.DataFrame",
       "ref": "e66ba373-c816-41c4-bfaf-f19f7fec0c62",
       "rows": [
        [
         "0",
         "False",
         "False",
         "True",
         "False"
        ],
        [
         "1",
         "False",
         "False",
         "True",
         "False"
        ],
        [
         "2",
         "False",
         "False",
         "True",
         "False"
        ],
        [
         "3",
         "False",
         "False",
         "True",
         "False"
        ],
        [
         "4",
         "False",
         "False",
         "True",
         "False"
        ]
       ],
       "shape": {
        "columns": 4,
        "rows": 5
       }
      },
      "text/html": [
       "<div>\n",
       "<style scoped>\n",
       "    .dataframe tbody tr th:only-of-type {\n",
       "        vertical-align: middle;\n",
       "    }\n",
       "\n",
       "    .dataframe tbody tr th {\n",
       "        vertical-align: top;\n",
       "    }\n",
       "\n",
       "    .dataframe thead th {\n",
       "        text-align: right;\n",
       "    }\n",
       "</style>\n",
       "<table border=\"1\" class=\"dataframe\">\n",
       "  <thead>\n",
       "    <tr style=\"text-align: right;\">\n",
       "      <th></th>\n",
       "      <th>acc</th>\n",
       "      <th>good</th>\n",
       "      <th>unacc</th>\n",
       "      <th>vgood</th>\n",
       "    </tr>\n",
       "  </thead>\n",
       "  <tbody>\n",
       "    <tr>\n",
       "      <th>0</th>\n",
       "      <td>False</td>\n",
       "      <td>False</td>\n",
       "      <td>True</td>\n",
       "      <td>False</td>\n",
       "    </tr>\n",
       "    <tr>\n",
       "      <th>1</th>\n",
       "      <td>False</td>\n",
       "      <td>False</td>\n",
       "      <td>True</td>\n",
       "      <td>False</td>\n",
       "    </tr>\n",
       "    <tr>\n",
       "      <th>2</th>\n",
       "      <td>False</td>\n",
       "      <td>False</td>\n",
       "      <td>True</td>\n",
       "      <td>False</td>\n",
       "    </tr>\n",
       "    <tr>\n",
       "      <th>3</th>\n",
       "      <td>False</td>\n",
       "      <td>False</td>\n",
       "      <td>True</td>\n",
       "      <td>False</td>\n",
       "    </tr>\n",
       "    <tr>\n",
       "      <th>4</th>\n",
       "      <td>False</td>\n",
       "      <td>False</td>\n",
       "      <td>True</td>\n",
       "      <td>False</td>\n",
       "    </tr>\n",
       "  </tbody>\n",
       "</table>\n",
       "</div>"
      ],
      "text/plain": [
       "     acc   good  unacc  vgood\n",
       "0  False  False   True  False\n",
       "1  False  False   True  False\n",
       "2  False  False   True  False\n",
       "3  False  False   True  False\n",
       "4  False  False   True  False"
      ]
     },
     "execution_count": 6,
     "metadata": {},
     "output_type": "execute_result"
    }
   ],
   "source": [
    "y.head()"
   ]
  },
  {
   "cell_type": "code",
   "execution_count": 7,
   "metadata": {},
   "outputs": [],
   "source": [
    "X_train, X_test, y_train, y_test = train_test_split(\n",
    "    X, y, test_size=0.2, random_state=42\n",
    ")\n",
    "\n",
    "train_ds = tf.data.Dataset.from_tensor_slices((X_train.values, y_train)).batch(32)\n",
    "test_ds = tf.data.Dataset.from_tensor_slices((X_test.values, y_test)).batch(32)"
   ]
  },
  {
   "cell_type": "code",
   "execution_count": 10,
   "metadata": {},
   "outputs": [
    {
     "name": "stdout",
     "output_type": "stream",
     "text": [
      "Epoch 1/30\n",
      "44/44 [==============================] - 0s 2ms/step - loss: 1.0222 - accuracy: 0.6447 - val_loss: 0.8072 - val_accuracy: 0.6792\n",
      "Epoch 2/30\n",
      "44/44 [==============================] - 0s 594us/step - loss: 0.6799 - accuracy: 0.7113 - val_loss: 0.6026 - val_accuracy: 0.7110\n",
      "Epoch 3/30\n",
      "44/44 [==============================] - 0s 683us/step - loss: 0.4901 - accuracy: 0.7880 - val_loss: 0.4217 - val_accuracy: 0.8555\n",
      "Epoch 4/30\n",
      "44/44 [==============================] - 0s 595us/step - loss: 0.3595 - accuracy: 0.8683 - val_loss: 0.3254 - val_accuracy: 0.8671\n",
      "Epoch 5/30\n",
      "44/44 [==============================] - 0s 575us/step - loss: 0.2861 - accuracy: 0.8886 - val_loss: 0.2680 - val_accuracy: 0.8815\n",
      "Epoch 6/30\n",
      "44/44 [==============================] - 0s 579us/step - loss: 0.2372 - accuracy: 0.9132 - val_loss: 0.2288 - val_accuracy: 0.9133\n",
      "Epoch 7/30\n",
      "44/44 [==============================] - 0s 593us/step - loss: 0.2004 - accuracy: 0.9284 - val_loss: 0.1987 - val_accuracy: 0.9335\n",
      "Epoch 8/30\n",
      "44/44 [==============================] - 0s 3ms/step - loss: 0.1708 - accuracy: 0.9465 - val_loss: 0.1756 - val_accuracy: 0.9422\n",
      "Epoch 9/30\n",
      "44/44 [==============================] - 0s 563us/step - loss: 0.1471 - accuracy: 0.9551 - val_loss: 0.1580 - val_accuracy: 0.9538\n",
      "Epoch 10/30\n",
      "44/44 [==============================] - 0s 612us/step - loss: 0.1282 - accuracy: 0.9624 - val_loss: 0.1442 - val_accuracy: 0.9595\n",
      "Epoch 11/30\n",
      "44/44 [==============================] - 0s 597us/step - loss: 0.1128 - accuracy: 0.9732 - val_loss: 0.1332 - val_accuracy: 0.9624\n",
      "Epoch 12/30\n",
      "44/44 [==============================] - 0s 602us/step - loss: 0.1002 - accuracy: 0.9776 - val_loss: 0.1241 - val_accuracy: 0.9682\n",
      "Epoch 13/30\n",
      "44/44 [==============================] - 0s 644us/step - loss: 0.0895 - accuracy: 0.9790 - val_loss: 0.1165 - val_accuracy: 0.9653\n",
      "Epoch 14/30\n",
      "44/44 [==============================] - 0s 582us/step - loss: 0.0803 - accuracy: 0.9805 - val_loss: 0.1102 - val_accuracy: 0.9682\n",
      "Epoch 15/30\n",
      "44/44 [==============================] - 0s 645us/step - loss: 0.0721 - accuracy: 0.9855 - val_loss: 0.1043 - val_accuracy: 0.9682\n",
      "Epoch 16/30\n",
      "44/44 [==============================] - 0s 679us/step - loss: 0.0650 - accuracy: 0.9863 - val_loss: 0.0988 - val_accuracy: 0.9682\n",
      "Epoch 17/30\n",
      "44/44 [==============================] - 0s 643us/step - loss: 0.0588 - accuracy: 0.9877 - val_loss: 0.0938 - val_accuracy: 0.9682\n",
      "Epoch 18/30\n",
      "44/44 [==============================] - 0s 592us/step - loss: 0.0531 - accuracy: 0.9906 - val_loss: 0.0894 - val_accuracy: 0.9682\n",
      "Epoch 19/30\n",
      "44/44 [==============================] - 0s 563us/step - loss: 0.0481 - accuracy: 0.9913 - val_loss: 0.0856 - val_accuracy: 0.9711\n",
      "Epoch 20/30\n",
      "44/44 [==============================] - 0s 571us/step - loss: 0.0436 - accuracy: 0.9920 - val_loss: 0.0822 - val_accuracy: 0.9682\n",
      "Epoch 21/30\n",
      "44/44 [==============================] - 0s 601us/step - loss: 0.0396 - accuracy: 0.9928 - val_loss: 0.0785 - val_accuracy: 0.9711\n",
      "Epoch 22/30\n",
      "44/44 [==============================] - 0s 545us/step - loss: 0.0360 - accuracy: 0.9942 - val_loss: 0.0752 - val_accuracy: 0.9711\n",
      "Epoch 23/30\n",
      "44/44 [==============================] - 0s 560us/step - loss: 0.0327 - accuracy: 0.9949 - val_loss: 0.0724 - val_accuracy: 0.9740\n",
      "Epoch 24/30\n",
      "44/44 [==============================] - 0s 585us/step - loss: 0.0298 - accuracy: 0.9964 - val_loss: 0.0695 - val_accuracy: 0.9740\n",
      "Epoch 25/30\n",
      "44/44 [==============================] - 0s 568us/step - loss: 0.0271 - accuracy: 0.9964 - val_loss: 0.0665 - val_accuracy: 0.9740\n",
      "Epoch 26/30\n",
      "44/44 [==============================] - 0s 572us/step - loss: 0.0248 - accuracy: 0.9971 - val_loss: 0.0634 - val_accuracy: 0.9769\n",
      "Epoch 27/30\n",
      "44/44 [==============================] - 0s 561us/step - loss: 0.0225 - accuracy: 0.9971 - val_loss: 0.0607 - val_accuracy: 0.9798\n",
      "Epoch 28/30\n",
      "44/44 [==============================] - 0s 530us/step - loss: 0.0206 - accuracy: 0.9971 - val_loss: 0.0582 - val_accuracy: 0.9798\n",
      "Epoch 29/30\n",
      "44/44 [==============================] - 0s 567us/step - loss: 0.0187 - accuracy: 0.9986 - val_loss: 0.0554 - val_accuracy: 0.9798\n",
      "Epoch 30/30\n",
      "44/44 [==============================] - 0s 540us/step - loss: 0.0171 - accuracy: 0.9986 - val_loss: 0.0531 - val_accuracy: 0.9798\n"
     ]
    }
   ],
   "source": [
    "model = tf.keras.Sequential([\n",
    "    tf.keras.layers.Dense(64, activation='relu', input_shape=(X_train.shape[1],)),\n",
    "    tf.keras.layers.Dense(32, activation='relu'),\n",
    "    tf.keras.layers.Dense(4, activation='softmax')\n",
    "])\n",
    "\n",
    "\n",
    "N_EPOCHS = 30\n",
    "model.compile(optimizer='adam', loss='categorical_crossentropy', metrics=['accuracy'])\n",
    "history = model.fit(train_ds, epochs=N_EPOCHS, validation_data=test_ds)"
   ]
  },
  {
   "cell_type": "code",
   "execution_count": 11,
   "metadata": {},
   "outputs": [
    {
     "data": {
      "image/png": "[encoded data removed]",
      "text/plain": [
       "<Figure size 1000x700 with 1 Axes>"
      ]
     },
     "metadata": {},
     "output_type": "display_data"
    }
   ],
   "source": [
    "# loss 체크\n",
    "import matplotlib.pyplot as plt\n",
    "plt.figure(figsize=(10,7))\n",
    "plt.plot(range(N_EPOCHS), history.history['loss'], label='train loss')\n",
    "plt.plot(range(N_EPOCHS), history.history['val_loss'], label='test loss')\n",
    "plt.xlabel('Epoch')\n",
    "plt.ylabel('Loss')\n",
    "plt.legend()\n",
    "plt.show()"
   ]
  }
 ],
 "metadata": {
  "kernelspec": {
   "display_name": "gachon-ai",
   "language": "python",
   "name": "python3"
  },
  "language_info": {
   "codemirror_mode": {
    "name": "ipython",
    "version": 3
   },
   "file_extension": ".py",
   "mimetype": "text/x-python",
   "name": "python",
   "nbconvert_exporter": "python",
   "pygments_lexer": "ipython3",
   "version": "3.8.20"
  }
 },
 "nbformat": 4,
 "nbformat_minor": 2
}
