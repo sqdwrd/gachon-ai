{
 "cells": [
  {
   "cell_type": "code",
   "execution_count": 1,
   "metadata": {},
   "outputs": [],
   "source": [
    "import pandas as pd\n",
    "import seaborn as sns\n",
    "import numpy as np\n",
    "\n",
    "from sklearn.model_selection import train_test_split\n"
   ]
  },
  {
   "cell_type": "code",
   "execution_count": 2,
   "metadata": {},
   "outputs": [
    {
     "data": {
      "application/vnd.microsoft.datawrangler.viewer.v0+json": {
       "columns": [
        {
         "name": "index",
         "rawType": "int64",
         "type": "integer"
        },
        {
         "name": "Pregnancies",
         "rawType": "int64",
         "type": "integer"
        },
        {
         "name": "Glucose",
         "rawType": "int64",
         "type": "integer"
        },
        {
         "name": "BloodPressure",
         "rawType": "int64",
         "type": "integer"
        },
        {
         "name": "SkinThickness",
         "rawType": "int64",
         "type": "integer"
        },
        {
         "name": "Insulin",
         "rawType": "int64",
         "type": "integer"
        },
        {
         "name": "BMI",
         "rawType": "float64",
         "type": "float"
        },
        {
         "name": "DiabetesPedigreeFunction",
         "rawType": "float64",
         "type": "float"
        },
        {
         "name": "Age",
         "rawType": "int64",
         "type": "integer"
        },
        {
         "name": "Outcome",
         "rawType": "int64",
         "type": "integer"
        }
       ],
       "conversionMethod": "pd.DataFrame",
       "ref": "167fdace-ad76-4efa-8f2b-82e7c6dacb66",
       "rows": [
        [
         "0",
         "6",
         "148",
         "72",
         "35",
         "0",
         "33.6",
         "0.627",
         "50",
         "1"
        ],
        [
         "1",
         "1",
         "85",
         "66",
         "29",
         "0",
         "26.6",
         "0.351",
         "31",
         "0"
        ],
        [
         "2",
         "8",
         "183",
         "64",
         "0",
         "0",
         "23.3",
         "0.672",
         "32",
         "1"
        ],
        [
         "3",
         "1",
         "89",
         "66",
         "23",
         "94",
         "28.1",
         "0.167",
         "21",
         "0"
        ],
        [
         "4",
         "0",
         "137",
         "40",
         "35",
         "168",
         "43.1",
         "2.288",
         "33",
         "1"
        ],
        [
         "5",
         "5",
         "116",
         "74",
         "0",
         "0",
         "25.6",
         "0.201",
         "30",
         "0"
        ],
        [
         "6",
         "3",
         "78",
         "50",
         "32",
         "88",
         "31.0",
         "0.248",
         "26",
         "1"
        ],
        [
         "7",
         "10",
         "115",
         "0",
         "0",
         "0",
         "35.3",
         "0.134",
         "29",
         "0"
        ],
        [
         "8",
         "2",
         "197",
         "70",
         "45",
         "543",
         "30.5",
         "0.158",
         "53",
         "1"
        ],
        [
         "9",
         "8",
         "125",
         "96",
         "0",
         "0",
         "0.0",
         "0.232",
         "54",
         "1"
        ],
        [
         "10",
         "4",
         "110",
         "92",
         "0",
         "0",
         "37.6",
         "0.191",
         "30",
         "0"
        ],
        [
         "11",
         "10",
         "168",
         "74",
         "0",
         "0",
         "38.0",
         "0.537",
         "34",
         "1"
        ],
        [
         "12",
         "10",
         "139",
         "80",
         "0",
         "0",
         "27.1",
         "1.441",
         "57",
         "0"
        ],
        [
         "13",
         "1",
         "189",
         "60",
         "23",
         "846",
         "30.1",
         "0.398",
         "59",
         "1"
        ],
        [
         "14",
         "5",
         "166",
         "72",
         "19",
         "175",
         "25.8",
         "0.587",
         "51",
         "1"
        ],
        [
         "15",
         "7",
         "100",
         "0",
         "0",
         "0",
         "30.0",
         "0.484",
         "32",
         "1"
        ],
        [
         "16",
         "0",
         "118",
         "84",
         "47",
         "230",
         "45.8",
         "0.551",
         "31",
         "1"
        ],
        [
         "17",
         "7",
         "107",
         "74",
         "0",
         "0",
         "29.6",
         "0.254",
         "31",
         "1"
        ],
        [
         "18",
         "1",
         "103",
         "30",
         "38",
         "83",
         "43.3",
         "0.183",
         "33",
         "0"
        ],
        [
         "19",
         "1",
         "115",
         "70",
         "30",
         "96",
         "34.6",
         "0.529",
         "32",
         "1"
        ],
        [
         "20",
         "3",
         "126",
         "88",
         "41",
         "235",
         "39.3",
         "0.704",
         "27",
         "0"
        ],
        [
         "21",
         "8",
         "99",
         "84",
         "0",
         "0",
         "35.4",
         "0.388",
         "50",
         "0"
        ],
        [
         "22",
         "7",
         "196",
         "90",
         "0",
         "0",
         "39.8",
         "0.451",
         "41",
         "1"
        ],
        [
         "23",
         "9",
         "119",
         "80",
         "35",
         "0",
         "29.0",
         "0.263",
         "29",
         "1"
        ],
        [
         "24",
         "11",
         "143",
         "94",
         "33",
         "146",
         "36.6",
         "0.254",
         "51",
         "1"
        ],
        [
         "25",
         "10",
         "125",
         "70",
         "26",
         "115",
         "31.1",
         "0.205",
         "41",
         "1"
        ],
        [
         "26",
         "7",
         "147",
         "76",
         "0",
         "0",
         "39.4",
         "0.257",
         "43",
         "1"
        ],
        [
         "27",
         "1",
         "97",
         "66",
         "15",
         "140",
         "23.2",
         "0.487",
         "22",
         "0"
        ],
        [
         "28",
         "13",
         "145",
         "82",
         "19",
         "110",
         "22.2",
         "0.245",
         "57",
         "0"
        ],
        [
         "29",
         "5",
         "117",
         "92",
         "0",
         "0",
         "34.1",
         "0.337",
         "38",
         "0"
        ],
        [
         "30",
         "5",
         "109",
         "75",
         "26",
         "0",
         "36.0",
         "0.546",
         "60",
         "0"
        ],
        [
         "31",
         "3",
         "158",
         "76",
         "36",
         "245",
         "31.6",
         "0.851",
         "28",
         "1"
        ],
        [
         "32",
         "3",
         "88",
         "58",
         "11",
         "54",
         "24.8",
         "0.267",
         "22",
         "0"
        ],
        [
         "33",
         "6",
         "92",
         "92",
         "0",
         "0",
         "19.9",
         "0.188",
         "28",
         "0"
        ],
        [
         "34",
         "10",
         "122",
         "78",
         "31",
         "0",
         "27.6",
         "0.512",
         "45",
         "0"
        ],
        [
         "35",
         "4",
         "103",
         "60",
         "33",
         "192",
         "24.0",
         "0.966",
         "33",
         "0"
        ],
        [
         "36",
         "11",
         "138",
         "76",
         "0",
         "0",
         "33.2",
         "0.42",
         "35",
         "0"
        ],
        [
         "37",
         "9",
         "102",
         "76",
         "37",
         "0",
         "32.9",
         "0.665",
         "46",
         "1"
        ],
        [
         "38",
         "2",
         "90",
         "68",
         "42",
         "0",
         "38.2",
         "0.503",
         "27",
         "1"
        ],
        [
         "39",
         "4",
         "111",
         "72",
         "47",
         "207",
         "37.1",
         "1.39",
         "56",
         "1"
        ],
        [
         "40",
         "3",
         "180",
         "64",
         "25",
         "70",
         "34.0",
         "0.271",
         "26",
         "0"
        ],
        [
         "41",
         "7",
         "133",
         "84",
         "0",
         "0",
         "40.2",
         "0.696",
         "37",
         "0"
        ],
        [
         "42",
         "7",
         "106",
         "92",
         "18",
         "0",
         "22.7",
         "0.235",
         "48",
         "0"
        ],
        [
         "43",
         "9",
         "171",
         "110",
         "24",
         "240",
         "45.4",
         "0.721",
         "54",
         "1"
        ],
        [
         "44",
         "7",
         "159",
         "64",
         "0",
         "0",
         "27.4",
         "0.294",
         "40",
         "0"
        ],
        [
         "45",
         "0",
         "180",
         "66",
         "39",
         "0",
         "42.0",
         "1.893",
         "25",
         "1"
        ],
        [
         "46",
         "1",
         "146",
         "56",
         "0",
         "0",
         "29.7",
         "0.564",
         "29",
         "0"
        ],
        [
         "47",
         "2",
         "71",
         "70",
         "27",
         "0",
         "28.0",
         "0.586",
         "22",
         "0"
        ],
        [
         "48",
         "7",
         "103",
         "66",
         "32",
         "0",
         "39.1",
         "0.344",
         "31",
         "1"
        ],
        [
         "49",
         "7",
         "105",
         "0",
         "0",
         "0",
         "0.0",
         "0.305",
         "24",
         "0"
        ]
       ],
       "shape": {
        "columns": 9,
        "rows": 768
       }
      },
      "text/html": [
       "<div>\n",
       "<style scoped>\n",
       "    .dataframe tbody tr th:only-of-type {\n",
       "        vertical-align: middle;\n",
       "    }\n",
       "\n",
       "    .dataframe tbody tr th {\n",
       "        vertical-align: top;\n",
       "    }\n",
       "\n",
       "    .dataframe thead th {\n",
       "        text-align: right;\n",
       "    }\n",
       "</style>\n",
       "<table border=\"1\" class=\"dataframe\">\n",
       "  <thead>\n",
       "    <tr style=\"text-align: right;\">\n",
       "      <th></th>\n",
       "      <th>Pregnancies</th>\n",
       "      <th>Glucose</th>\n",
       "      <th>BloodPressure</th>\n",
       "      <th>SkinThickness</th>\n",
       "      <th>Insulin</th>\n",
       "      <th>BMI</th>\n",
       "      <th>DiabetesPedigreeFunction</th>\n",
       "      <th>Age</th>\n",
       "      <th>Outcome</th>\n",
       "    </tr>\n",
       "  </thead>\n",
       "  <tbody>\n",
       "    <tr>\n",
       "      <th>0</th>\n",
       "      <td>6</td>\n",
       "      <td>148</td>\n",
       "      <td>72</td>\n",
       "      <td>35</td>\n",
       "      <td>0</td>\n",
       "      <td>33.6</td>\n",
       "      <td>0.627</td>\n",
       "      <td>50</td>\n",
       "      <td>1</td>\n",
       "    </tr>\n",
       "    <tr>\n",
       "      <th>1</th>\n",
       "      <td>1</td>\n",
       "      <td>85</td>\n",
       "      <td>66</td>\n",
       "      <td>29</td>\n",
       "      <td>0</td>\n",
       "      <td>26.6</td>\n",
       "      <td>0.351</td>\n",
       "      <td>31</td>\n",
       "      <td>0</td>\n",
       "    </tr>\n",
       "    <tr>\n",
       "      <th>2</th>\n",
       "      <td>8</td>\n",
       "      <td>183</td>\n",
       "      <td>64</td>\n",
       "      <td>0</td>\n",
       "      <td>0</td>\n",
       "      <td>23.3</td>\n",
       "      <td>0.672</td>\n",
       "      <td>32</td>\n",
       "      <td>1</td>\n",
       "    </tr>\n",
       "    <tr>\n",
       "      <th>3</th>\n",
       "      <td>1</td>\n",
       "      <td>89</td>\n",
       "      <td>66</td>\n",
       "      <td>23</td>\n",
       "      <td>94</td>\n",
       "      <td>28.1</td>\n",
       "      <td>0.167</td>\n",
       "      <td>21</td>\n",
       "      <td>0</td>\n",
       "    </tr>\n",
       "    <tr>\n",
       "      <th>4</th>\n",
       "      <td>0</td>\n",
       "      <td>137</td>\n",
       "      <td>40</td>\n",
       "      <td>35</td>\n",
       "      <td>168</td>\n",
       "      <td>43.1</td>\n",
       "      <td>2.288</td>\n",
       "      <td>33</td>\n",
       "      <td>1</td>\n",
       "    </tr>\n",
       "    <tr>\n",
       "      <th>...</th>\n",
       "      <td>...</td>\n",
       "      <td>...</td>\n",
       "      <td>...</td>\n",
       "      <td>...</td>\n",
       "      <td>...</td>\n",
       "      <td>...</td>\n",
       "      <td>...</td>\n",
       "      <td>...</td>\n",
       "      <td>...</td>\n",
       "    </tr>\n",
       "    <tr>\n",
       "      <th>763</th>\n",
       "      <td>10</td>\n",
       "      <td>101</td>\n",
       "      <td>76</td>\n",
       "      <td>48</td>\n",
       "      <td>180</td>\n",
       "      <td>32.9</td>\n",
       "      <td>0.171</td>\n",
       "      <td>63</td>\n",
       "      <td>0</td>\n",
       "    </tr>\n",
       "    <tr>\n",
       "      <th>764</th>\n",
       "      <td>2</td>\n",
       "      <td>122</td>\n",
       "      <td>70</td>\n",
       "      <td>27</td>\n",
       "      <td>0</td>\n",
       "      <td>36.8</td>\n",
       "      <td>0.340</td>\n",
       "      <td>27</td>\n",
       "      <td>0</td>\n",
       "    </tr>\n",
       "    <tr>\n",
       "      <th>765</th>\n",
       "      <td>5</td>\n",
       "      <td>121</td>\n",
       "      <td>72</td>\n",
       "      <td>23</td>\n",
       "      <td>112</td>\n",
       "      <td>26.2</td>\n",
       "      <td>0.245</td>\n",
       "      <td>30</td>\n",
       "      <td>0</td>\n",
       "    </tr>\n",
       "    <tr>\n",
       "      <th>766</th>\n",
       "      <td>1</td>\n",
       "      <td>126</td>\n",
       "      <td>60</td>\n",
       "      <td>0</td>\n",
       "      <td>0</td>\n",
       "      <td>30.1</td>\n",
       "      <td>0.349</td>\n",
       "      <td>47</td>\n",
       "      <td>1</td>\n",
       "    </tr>\n",
       "    <tr>\n",
       "      <th>767</th>\n",
       "      <td>1</td>\n",
       "      <td>93</td>\n",
       "      <td>70</td>\n",
       "      <td>31</td>\n",
       "      <td>0</td>\n",
       "      <td>30.4</td>\n",
       "      <td>0.315</td>\n",
       "      <td>23</td>\n",
       "      <td>0</td>\n",
       "    </tr>\n",
       "  </tbody>\n",
       "</table>\n",
       "<p>768 rows × 9 columns</p>\n",
       "</div>"
      ],
      "text/plain": [
       "     Pregnancies  Glucose  BloodPressure  SkinThickness  Insulin   BMI  \\\n",
       "0              6      148             72             35        0  33.6   \n",
       "1              1       85             66             29        0  26.6   \n",
       "2              8      183             64              0        0  23.3   \n",
       "3              1       89             66             23       94  28.1   \n",
       "4              0      137             40             35      168  43.1   \n",
       "..           ...      ...            ...            ...      ...   ...   \n",
       "763           10      101             76             48      180  32.9   \n",
       "764            2      122             70             27        0  36.8   \n",
       "765            5      121             72             23      112  26.2   \n",
       "766            1      126             60              0        0  30.1   \n",
       "767            1       93             70             31        0  30.4   \n",
       "\n",
       "     DiabetesPedigreeFunction  Age  Outcome  \n",
       "0                       0.627   50        1  \n",
       "1                       0.351   31        0  \n",
       "2                       0.672   32        1  \n",
       "3                       0.167   21        0  \n",
       "4                       2.288   33        1  \n",
       "..                        ...  ...      ...  \n",
       "763                     0.171   63        0  \n",
       "764                     0.340   27        0  \n",
       "765                     0.245   30        0  \n",
       "766                     0.349   47        1  \n",
       "767                     0.315   23        0  \n",
       "\n",
       "[768 rows x 9 columns]"
      ]
     },
     "execution_count": 2,
     "metadata": {},
     "output_type": "execute_result"
    }
   ],
   "source": [
    "df = pd.read_csv(\"~/dev/gachon-ai/datasets/diabetes.csv\")\n",
    "df"
   ]
  },
  {
   "cell_type": "code",
   "execution_count": 3,
   "metadata": {},
   "outputs": [
    {
     "data": {
      "text/plain": [
       "Pregnancies                 0\n",
       "Glucose                     0\n",
       "BloodPressure               0\n",
       "SkinThickness               0\n",
       "Insulin                     0\n",
       "BMI                         0\n",
       "DiabetesPedigreeFunction    0\n",
       "Age                         0\n",
       "Outcome                     0\n",
       "dtype: int64"
      ]
     },
     "execution_count": 3,
     "metadata": {},
     "output_type": "execute_result"
    }
   ],
   "source": [
    "df.isnull().sum()"
   ]
  },
  {
   "cell_type": "code",
   "execution_count": 4,
   "metadata": {},
   "outputs": [],
   "source": [
    "y = df[\"Outcome\"]\n",
    "X = df.drop(\"Outcome\", axis=1)\n",
    "\n",
    "y = pd.get_dummies(y).values\n",
    "X_train, X_test, y_train, y_test = train_test_split(X, y, test_size=0.2, random_state=42)"
   ]
  },
  {
   "cell_type": "code",
   "execution_count": 5,
   "metadata": {},
   "outputs": [
    {
     "data": {
      "text/plain": [
       "(768, 2)"
      ]
     },
     "execution_count": 5,
     "metadata": {},
     "output_type": "execute_result"
    }
   ],
   "source": [
    "y.shape"
   ]
  },
  {
   "cell_type": "code",
   "execution_count": 6,
   "metadata": {},
   "outputs": [
    {
     "data": {
      "text/plain": [
       "array([[False,  True],\n",
       "       [ True, False],\n",
       "       [False,  True],\n",
       "       ...,\n",
       "       [ True, False],\n",
       "       [False,  True],\n",
       "       [ True, False]])"
      ]
     },
     "execution_count": 6,
     "metadata": {},
     "output_type": "execute_result"
    }
   ],
   "source": [
    "y"
   ]
  },
  {
   "cell_type": "code",
   "execution_count": 7,
   "metadata": {},
   "outputs": [
    {
     "data": {
      "application/vnd.microsoft.datawrangler.viewer.v0+json": {
       "columns": [
        {
         "name": "index",
         "rawType": "int64",
         "type": "integer"
        },
        {
         "name": "Pregnancies",
         "rawType": "int64",
         "type": "integer"
        },
        {
         "name": "Glucose",
         "rawType": "int64",
         "type": "integer"
        },
        {
         "name": "BloodPressure",
         "rawType": "int64",
         "type": "integer"
        },
        {
         "name": "SkinThickness",
         "rawType": "int64",
         "type": "integer"
        },
        {
         "name": "Insulin",
         "rawType": "int64",
         "type": "integer"
        },
        {
         "name": "BMI",
         "rawType": "float64",
         "type": "float"
        },
        {
         "name": "DiabetesPedigreeFunction",
         "rawType": "float64",
         "type": "float"
        },
        {
         "name": "Age",
         "rawType": "int64",
         "type": "integer"
        }
       ],
       "conversionMethod": "pd.DataFrame",
       "ref": "627683db-23b4-4101-a8fb-3b50b5c6c5e8",
       "rows": [
        [
         "0",
         "6",
         "148",
         "72",
         "35",
         "0",
         "33.6",
         "0.627",
         "50"
        ],
        [
         "1",
         "1",
         "85",
         "66",
         "29",
         "0",
         "26.6",
         "0.351",
         "31"
        ],
        [
         "2",
         "8",
         "183",
         "64",
         "0",
         "0",
         "23.3",
         "0.672",
         "32"
        ],
        [
         "3",
         "1",
         "89",
         "66",
         "23",
         "94",
         "28.1",
         "0.167",
         "21"
        ],
        [
         "4",
         "0",
         "137",
         "40",
         "35",
         "168",
         "43.1",
         "2.288",
         "33"
        ]
       ],
       "shape": {
        "columns": 8,
        "rows": 5
       }
      },
      "text/html": [
       "<div>\n",
       "<style scoped>\n",
       "    .dataframe tbody tr th:only-of-type {\n",
       "        vertical-align: middle;\n",
       "    }\n",
       "\n",
       "    .dataframe tbody tr th {\n",
       "        vertical-align: top;\n",
       "    }\n",
       "\n",
       "    .dataframe thead th {\n",
       "        text-align: right;\n",
       "    }\n",
       "</style>\n",
       "<table border=\"1\" class=\"dataframe\">\n",
       "  <thead>\n",
       "    <tr style=\"text-align: right;\">\n",
       "      <th></th>\n",
       "      <th>Pregnancies</th>\n",
       "      <th>Glucose</th>\n",
       "      <th>BloodPressure</th>\n",
       "      <th>SkinThickness</th>\n",
       "      <th>Insulin</th>\n",
       "      <th>BMI</th>\n",
       "      <th>DiabetesPedigreeFunction</th>\n",
       "      <th>Age</th>\n",
       "    </tr>\n",
       "  </thead>\n",
       "  <tbody>\n",
       "    <tr>\n",
       "      <th>0</th>\n",
       "      <td>6</td>\n",
       "      <td>148</td>\n",
       "      <td>72</td>\n",
       "      <td>35</td>\n",
       "      <td>0</td>\n",
       "      <td>33.6</td>\n",
       "      <td>0.627</td>\n",
       "      <td>50</td>\n",
       "    </tr>\n",
       "    <tr>\n",
       "      <th>1</th>\n",
       "      <td>1</td>\n",
       "      <td>85</td>\n",
       "      <td>66</td>\n",
       "      <td>29</td>\n",
       "      <td>0</td>\n",
       "      <td>26.6</td>\n",
       "      <td>0.351</td>\n",
       "      <td>31</td>\n",
       "    </tr>\n",
       "    <tr>\n",
       "      <th>2</th>\n",
       "      <td>8</td>\n",
       "      <td>183</td>\n",
       "      <td>64</td>\n",
       "      <td>0</td>\n",
       "      <td>0</td>\n",
       "      <td>23.3</td>\n",
       "      <td>0.672</td>\n",
       "      <td>32</td>\n",
       "    </tr>\n",
       "    <tr>\n",
       "      <th>3</th>\n",
       "      <td>1</td>\n",
       "      <td>89</td>\n",
       "      <td>66</td>\n",
       "      <td>23</td>\n",
       "      <td>94</td>\n",
       "      <td>28.1</td>\n",
       "      <td>0.167</td>\n",
       "      <td>21</td>\n",
       "    </tr>\n",
       "    <tr>\n",
       "      <th>4</th>\n",
       "      <td>0</td>\n",
       "      <td>137</td>\n",
       "      <td>40</td>\n",
       "      <td>35</td>\n",
       "      <td>168</td>\n",
       "      <td>43.1</td>\n",
       "      <td>2.288</td>\n",
       "      <td>33</td>\n",
       "    </tr>\n",
       "  </tbody>\n",
       "</table>\n",
       "</div>"
      ],
      "text/plain": [
       "   Pregnancies  Glucose  BloodPressure  SkinThickness  Insulin   BMI  \\\n",
       "0            6      148             72             35        0  33.6   \n",
       "1            1       85             66             29        0  26.6   \n",
       "2            8      183             64              0        0  23.3   \n",
       "3            1       89             66             23       94  28.1   \n",
       "4            0      137             40             35      168  43.1   \n",
       "\n",
       "   DiabetesPedigreeFunction  Age  \n",
       "0                     0.627   50  \n",
       "1                     0.351   31  \n",
       "2                     0.672   32  \n",
       "3                     0.167   21  \n",
       "4                     2.288   33  "
      ]
     },
     "execution_count": 7,
     "metadata": {},
     "output_type": "execute_result"
    }
   ],
   "source": [
    "X.head()"
   ]
  },
  {
   "cell_type": "code",
   "execution_count": 8,
   "metadata": {},
   "outputs": [
    {
     "data": {
      "text/plain": [
       "array([[False,  True],\n",
       "       [ True, False],\n",
       "       [False,  True],\n",
       "       ...,\n",
       "       [ True, False],\n",
       "       [False,  True],\n",
       "       [ True, False]])"
      ]
     },
     "execution_count": 8,
     "metadata": {},
     "output_type": "execute_result"
    }
   ],
   "source": [
    "y"
   ]
  },
  {
   "cell_type": "code",
   "execution_count": 9,
   "metadata": {},
   "outputs": [
    {
     "data": {
      "text/plain": [
       "((614, 8), (154, 8), (614, 2), (154, 2))"
      ]
     },
     "execution_count": 9,
     "metadata": {},
     "output_type": "execute_result"
    }
   ],
   "source": [
    "X_train.shape, X_test.shape, y_train.shape, y_test.shape"
   ]
  },
  {
   "cell_type": "code",
   "execution_count": 10,
   "metadata": {},
   "outputs": [
    {
     "name": "stdout",
     "output_type": "stream",
     "text": [
      "Model: \"sequential\"\n",
      "_________________________________________________________________\n",
      " Layer (type)                Output Shape              Param #   \n",
      "=================================================================\n",
      " dense (Dense)               (None, 8)                 72        \n",
      "                                                                 \n",
      " dense_1 (Dense)             (None, 30)                270       \n",
      "                                                                 \n",
      " dense_2 (Dense)             (None, 30)                930       \n",
      "                                                                 \n",
      " dense_3 (Dense)             (None, 2)                 62        \n",
      "                                                                 \n",
      "=================================================================\n",
      "Total params: 1,334\n",
      "Trainable params: 1,334\n",
      "Non-trainable params: 0\n",
      "_________________________________________________________________\n"
     ]
    }
   ],
   "source": [
    "#Defining the model \n",
    "\n",
    "from keras.models import Sequential\n",
    "from keras.layers import Dense\n",
    "from keras.optimizers import SGD,Adam\n",
    "\n",
    "\n",
    "model = Sequential()\n",
    "\n",
    "model.add(Dense(8,input_shape=(8,),activation='relu'))\n",
    "model.add(Dense(30,activation='relu'))\n",
    "model.add(Dense(30,activation='relu'))\n",
    "model.add(Dense(2, activation='sigmoid'))\n",
    "\n",
    "model.compile(optimizer='rmsprop', loss='binary_crossentropy', metrics=['binary_crossentropy'])\n",
    "\n",
    "model.summary()"
   ]
  },
  {
   "cell_type": "code",
   "execution_count": 11,
   "metadata": {},
   "outputs": [
    {
     "name": "stdout",
     "output_type": "stream",
     "text": [
      "Epoch 1/60\n"
     ]
    },
    {
     "name": "stderr",
     "output_type": "stream",
     "text": [
      "2025-04-07 17:45:07.324023: W tensorflow/tsl/platform/profile_utils/cpu_utils.cc:128] Failed to get CPU frequency: 0 Hz\n"
     ]
    },
    {
     "name": "stdout",
     "output_type": "stream",
     "text": [
      "20/20 [==============================] - 0s 10ms/step - loss: 4.6354 - binary_crossentropy: 4.6354 - val_loss: 0.7903 - val_binary_crossentropy: 0.7903\n",
      "Epoch 2/60\n",
      "20/20 [==============================] - 0s 1ms/step - loss: 0.8236 - binary_crossentropy: 0.8236 - val_loss: 0.7991 - val_binary_crossentropy: 0.7991\n",
      "Epoch 3/60\n",
      "20/20 [==============================] - 0s 1ms/step - loss: 0.7571 - binary_crossentropy: 0.7571 - val_loss: 1.1869 - val_binary_crossentropy: 1.1869\n",
      "Epoch 4/60\n",
      "20/20 [==============================] - 0s 1ms/step - loss: 0.7582 - binary_crossentropy: 0.7582 - val_loss: 0.6697 - val_binary_crossentropy: 0.6697\n",
      "Epoch 5/60\n",
      "20/20 [==============================] - 0s 1ms/step - loss: 0.7467 - binary_crossentropy: 0.7467 - val_loss: 0.7009 - val_binary_crossentropy: 0.7009\n",
      "Epoch 6/60\n",
      "20/20 [==============================] - 0s 1ms/step - loss: 0.7328 - binary_crossentropy: 0.7328 - val_loss: 0.6358 - val_binary_crossentropy: 0.6358\n",
      "Epoch 7/60\n",
      "20/20 [==============================] - 0s 1ms/step - loss: 0.7076 - binary_crossentropy: 0.7076 - val_loss: 0.6383 - val_binary_crossentropy: 0.6383\n",
      "Epoch 8/60\n",
      "20/20 [==============================] - 0s 1ms/step - loss: 0.7075 - binary_crossentropy: 0.7075 - val_loss: 0.6249 - val_binary_crossentropy: 0.6249\n",
      "Epoch 9/60\n",
      "20/20 [==============================] - 0s 1ms/step - loss: 0.7013 - binary_crossentropy: 0.7013 - val_loss: 0.8083 - val_binary_crossentropy: 0.8083\n",
      "Epoch 10/60\n",
      "20/20 [==============================] - 0s 2ms/step - loss: 0.7349 - binary_crossentropy: 0.7349 - val_loss: 0.8485 - val_binary_crossentropy: 0.8485\n",
      "Epoch 11/60\n",
      "20/20 [==============================] - 0s 1ms/step - loss: 0.7058 - binary_crossentropy: 0.7058 - val_loss: 0.7311 - val_binary_crossentropy: 0.7311\n",
      "Epoch 12/60\n",
      "20/20 [==============================] - 0s 1ms/step - loss: 0.6918 - binary_crossentropy: 0.6918 - val_loss: 0.6399 - val_binary_crossentropy: 0.6399\n",
      "Epoch 13/60\n",
      "20/20 [==============================] - 0s 1ms/step - loss: 0.6720 - binary_crossentropy: 0.6720 - val_loss: 0.6681 - val_binary_crossentropy: 0.6681\n",
      "Epoch 14/60\n",
      "20/20 [==============================] - 0s 1ms/step - loss: 0.7161 - binary_crossentropy: 0.7161 - val_loss: 0.6223 - val_binary_crossentropy: 0.6223\n",
      "Epoch 15/60\n",
      "20/20 [==============================] - 0s 1ms/step - loss: 0.6670 - binary_crossentropy: 0.6670 - val_loss: 0.6628 - val_binary_crossentropy: 0.6628\n",
      "Epoch 16/60\n",
      "20/20 [==============================] - 0s 1ms/step - loss: 0.7371 - binary_crossentropy: 0.7371 - val_loss: 0.6332 - val_binary_crossentropy: 0.6332\n",
      "Epoch 17/60\n",
      "20/20 [==============================] - 0s 1ms/step - loss: 0.6922 - binary_crossentropy: 0.6922 - val_loss: 0.7194 - val_binary_crossentropy: 0.7194\n",
      "Epoch 18/60\n",
      "20/20 [==============================] - 0s 1ms/step - loss: 0.6978 - binary_crossentropy: 0.6978 - val_loss: 0.8830 - val_binary_crossentropy: 0.8830\n",
      "Epoch 19/60\n",
      "20/20 [==============================] - 0s 2ms/step - loss: 0.6684 - binary_crossentropy: 0.6684 - val_loss: 1.0259 - val_binary_crossentropy: 1.0259\n",
      "Epoch 20/60\n",
      "20/20 [==============================] - 0s 1ms/step - loss: 0.6818 - binary_crossentropy: 0.6818 - val_loss: 0.6647 - val_binary_crossentropy: 0.6647\n",
      "Epoch 21/60\n",
      "20/20 [==============================] - 0s 1ms/step - loss: 0.6647 - binary_crossentropy: 0.6647 - val_loss: 0.7269 - val_binary_crossentropy: 0.7269\n",
      "Epoch 22/60\n",
      "20/20 [==============================] - 0s 1ms/step - loss: 0.6659 - binary_crossentropy: 0.6659 - val_loss: 0.7093 - val_binary_crossentropy: 0.7093\n",
      "Epoch 23/60\n",
      "20/20 [==============================] - 0s 1ms/step - loss: 0.6727 - binary_crossentropy: 0.6727 - val_loss: 1.0192 - val_binary_crossentropy: 1.0192\n",
      "Epoch 24/60\n",
      "20/20 [==============================] - 0s 1ms/step - loss: 0.7074 - binary_crossentropy: 0.7074 - val_loss: 0.6304 - val_binary_crossentropy: 0.6304\n",
      "Epoch 25/60\n",
      "20/20 [==============================] - 0s 1ms/step - loss: 0.6881 - binary_crossentropy: 0.6881 - val_loss: 0.7746 - val_binary_crossentropy: 0.7746\n",
      "Epoch 26/60\n",
      "20/20 [==============================] - 0s 1ms/step - loss: 0.6909 - binary_crossentropy: 0.6909 - val_loss: 0.6044 - val_binary_crossentropy: 0.6044\n",
      "Epoch 27/60\n",
      "20/20 [==============================] - 0s 1ms/step - loss: 0.6504 - binary_crossentropy: 0.6504 - val_loss: 0.6542 - val_binary_crossentropy: 0.6542\n",
      "Epoch 28/60\n",
      "20/20 [==============================] - 0s 1ms/step - loss: 0.6415 - binary_crossentropy: 0.6415 - val_loss: 0.6531 - val_binary_crossentropy: 0.6531\n",
      "Epoch 29/60\n",
      "20/20 [==============================] - 0s 1ms/step - loss: 0.6736 - binary_crossentropy: 0.6736 - val_loss: 0.6372 - val_binary_crossentropy: 0.6372\n",
      "Epoch 30/60\n",
      "20/20 [==============================] - 0s 1ms/step - loss: 0.6625 - binary_crossentropy: 0.6625 - val_loss: 1.0567 - val_binary_crossentropy: 1.0567\n",
      "Epoch 31/60\n",
      "20/20 [==============================] - 0s 1ms/step - loss: 0.6557 - binary_crossentropy: 0.6557 - val_loss: 0.5814 - val_binary_crossentropy: 0.5814\n",
      "Epoch 32/60\n",
      "20/20 [==============================] - 0s 1ms/step - loss: 0.6642 - binary_crossentropy: 0.6642 - val_loss: 0.6585 - val_binary_crossentropy: 0.6585\n",
      "Epoch 33/60\n",
      "20/20 [==============================] - 0s 1ms/step - loss: 0.6755 - binary_crossentropy: 0.6755 - val_loss: 0.6793 - val_binary_crossentropy: 0.6793\n",
      "Epoch 34/60\n",
      "20/20 [==============================] - 0s 1ms/step - loss: 0.6410 - binary_crossentropy: 0.6410 - val_loss: 0.7014 - val_binary_crossentropy: 0.7014\n",
      "Epoch 35/60\n",
      "20/20 [==============================] - 0s 1ms/step - loss: 0.6296 - binary_crossentropy: 0.6296 - val_loss: 0.5820 - val_binary_crossentropy: 0.5820\n",
      "Epoch 36/60\n",
      "20/20 [==============================] - 0s 2ms/step - loss: 0.6490 - binary_crossentropy: 0.6490 - val_loss: 0.6307 - val_binary_crossentropy: 0.6307\n",
      "Epoch 37/60\n",
      "20/20 [==============================] - 0s 5ms/step - loss: 0.6451 - binary_crossentropy: 0.6451 - val_loss: 0.6221 - val_binary_crossentropy: 0.6221\n",
      "Epoch 38/60\n",
      "20/20 [==============================] - 0s 1ms/step - loss: 0.6401 - binary_crossentropy: 0.6401 - val_loss: 0.6235 - val_binary_crossentropy: 0.6235\n",
      "Epoch 39/60\n",
      "20/20 [==============================] - 0s 1ms/step - loss: 0.6298 - binary_crossentropy: 0.6298 - val_loss: 0.7879 - val_binary_crossentropy: 0.7879\n",
      "Epoch 40/60\n",
      "20/20 [==============================] - 0s 1ms/step - loss: 0.6684 - binary_crossentropy: 0.6684 - val_loss: 0.8616 - val_binary_crossentropy: 0.8616\n",
      "Epoch 41/60\n",
      "20/20 [==============================] - 0s 1ms/step - loss: 0.6351 - binary_crossentropy: 0.6351 - val_loss: 0.9301 - val_binary_crossentropy: 0.9301\n",
      "Epoch 42/60\n",
      "20/20 [==============================] - 0s 1ms/step - loss: 0.6388 - binary_crossentropy: 0.6388 - val_loss: 0.8291 - val_binary_crossentropy: 0.8291\n",
      "Epoch 43/60\n",
      "20/20 [==============================] - 0s 1ms/step - loss: 0.6332 - binary_crossentropy: 0.6332 - val_loss: 0.8251 - val_binary_crossentropy: 0.8251\n",
      "Epoch 44/60\n",
      "20/20 [==============================] - 0s 1ms/step - loss: 0.6314 - binary_crossentropy: 0.6314 - val_loss: 0.6007 - val_binary_crossentropy: 0.6007\n",
      "Epoch 45/60\n",
      "20/20 [==============================] - 0s 4ms/step - loss: 0.6446 - binary_crossentropy: 0.6446 - val_loss: 0.8170 - val_binary_crossentropy: 0.8170\n",
      "Epoch 46/60\n",
      "20/20 [==============================] - 0s 1ms/step - loss: 0.6522 - binary_crossentropy: 0.6522 - val_loss: 0.7240 - val_binary_crossentropy: 0.7240\n",
      "Epoch 47/60\n",
      "20/20 [==============================] - 0s 1ms/step - loss: 0.6084 - binary_crossentropy: 0.6084 - val_loss: 0.6219 - val_binary_crossentropy: 0.6219\n",
      "Epoch 48/60\n",
      "20/20 [==============================] - 0s 1ms/step - loss: 0.6141 - binary_crossentropy: 0.6141 - val_loss: 0.8030 - val_binary_crossentropy: 0.8030\n",
      "Epoch 49/60\n",
      "20/20 [==============================] - 0s 1ms/step - loss: 0.6276 - binary_crossentropy: 0.6276 - val_loss: 0.6245 - val_binary_crossentropy: 0.6245\n",
      "Epoch 50/60\n",
      "20/20 [==============================] - 0s 1ms/step - loss: 0.6255 - binary_crossentropy: 0.6255 - val_loss: 0.6665 - val_binary_crossentropy: 0.6665\n",
      "Epoch 51/60\n",
      "20/20 [==============================] - 0s 1ms/step - loss: 0.6178 - binary_crossentropy: 0.6178 - val_loss: 0.5786 - val_binary_crossentropy: 0.5786\n",
      "Epoch 52/60\n",
      "20/20 [==============================] - 0s 1ms/step - loss: 0.6328 - binary_crossentropy: 0.6328 - val_loss: 0.6620 - val_binary_crossentropy: 0.6620\n",
      "Epoch 53/60\n",
      "20/20 [==============================] - 0s 1ms/step - loss: 0.6293 - binary_crossentropy: 0.6293 - val_loss: 0.5865 - val_binary_crossentropy: 0.5865\n",
      "Epoch 54/60\n",
      "20/20 [==============================] - 0s 1ms/step - loss: 0.5999 - binary_crossentropy: 0.5999 - val_loss: 0.8045 - val_binary_crossentropy: 0.8045\n",
      "Epoch 55/60\n",
      "20/20 [==============================] - 0s 2ms/step - loss: 0.6397 - binary_crossentropy: 0.6397 - val_loss: 0.6654 - val_binary_crossentropy: 0.6654\n",
      "Epoch 56/60\n",
      "20/20 [==============================] - 0s 1ms/step - loss: 0.6303 - binary_crossentropy: 0.6303 - val_loss: 0.7569 - val_binary_crossentropy: 0.7569\n",
      "Epoch 57/60\n",
      "20/20 [==============================] - 0s 1ms/step - loss: 0.6018 - binary_crossentropy: 0.6018 - val_loss: 0.8339 - val_binary_crossentropy: 0.8339\n",
      "Epoch 58/60\n",
      "20/20 [==============================] - 0s 1ms/step - loss: 0.6248 - binary_crossentropy: 0.6248 - val_loss: 0.5740 - val_binary_crossentropy: 0.5740\n",
      "Epoch 59/60\n",
      "20/20 [==============================] - 0s 1ms/step - loss: 0.6034 - binary_crossentropy: 0.6034 - val_loss: 0.7171 - val_binary_crossentropy: 0.7171\n",
      "Epoch 60/60\n",
      "20/20 [==============================] - 0s 1ms/step - loss: 0.6443 - binary_crossentropy: 0.6443 - val_loss: 0.6158 - val_binary_crossentropy: 0.6158\n",
      "5/5 [==============================] - 0s 592us/step\n"
     ]
    }
   ],
   "source": [
    "N_EPOCHS = 60\n",
    "history=model.fit(x=X_train, y=y_train, epochs=N_EPOCHS, batch_size=32,validation_data= (X_test,y_test))\n",
    "y_pred = model.predict(X_test)\n",
    "\n",
    "# y_test_class = np.argmax(y_test)\n",
    "# y_pred_class = np.argmax(y_pred)"
   ]
  },
  {
   "cell_type": "code",
   "execution_count": 12,
   "metadata": {},
   "outputs": [
    {
     "data": {
      "image/png": "[encoded data removed]",
      "text/plain": [
       "<Figure size 1000x700 with 1 Axes>"
      ]
     },
     "metadata": {},
     "output_type": "display_data"
    }
   ],
   "source": [
    "# loss 체크\n",
    "import matplotlib.pyplot as plt\n",
    "plt.figure(figsize=(10,7))\n",
    "plt.plot(range(N_EPOCHS), history.history['loss'], label='train loss')\n",
    "plt.plot(range(N_EPOCHS), history.history['val_loss'], label='test loss')\n",
    "plt.xlabel('Epoch')\n",
    "plt.ylabel('Loss')\n",
    "plt.legend()\n",
    "plt.show()"
   ]
  }
 ],
 "metadata": {
  "kernelspec": {
   "display_name": "gachon-ai",
   "language": "python",
   "name": "python3"
  },
  "language_info": {
   "codemirror_mode": {
    "name": "ipython",
    "version": 3
   },
   "file_extension": ".py",
   "mimetype": "text/x-python",
   "name": "python",
   "nbconvert_exporter": "python",
   "pygments_lexer": "ipython3",
   "version": "3.8.20"
  }
 },
 "nbformat": 4,
 "nbformat_minor": 2
}
