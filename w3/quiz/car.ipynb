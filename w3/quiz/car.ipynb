{
 "cells": [
  {
   "cell_type": "code",
   "execution_count": 1,
   "metadata": {},
   "outputs": [],
   "source": [
    "import pandas as pd\n",
    "import seaborn as sns\n",
    "import numpy as np\n",
    "\n",
    "from sklearn.model_selection import train_test_split\n",
    "from sklearn.calibration import LabelEncoder\n",
    "from sklearn.preprocessing import StandardScaler\n",
    "\n",
    "from sklearn.tree import DecisionTreeClassifier\n",
    "from sklearn.ensemble import RandomForestClassifier\n",
    "from sklearn.svm import SVC\n",
    "from sklearn.linear_model import LogisticRegression\n",
    "from sklearn.neighbors import KNeighborsClassifier \n",
    "\n",
    "from sklearn.metrics import accuracy_score, classification_report\n"
   ]
  },
  {
   "cell_type": "code",
   "execution_count": 2,
   "metadata": {},
   "outputs": [
    {
     "data": {
      "application/vnd.microsoft.datawrangler.viewer.v0+json": {
       "columns": [
        {
         "name": "index",
         "rawType": "int64",
         "type": "integer"
        },
        {
         "name": "0",
         "rawType": "object",
         "type": "string"
        },
        {
         "name": "1",
         "rawType": "object",
         "type": "string"
        },
        {
         "name": "2",
         "rawType": "object",
         "type": "string"
        },
        {
         "name": "3",
         "rawType": "object",
         "type": "string"
        },
        {
         "name": "4",
         "rawType": "object",
         "type": "string"
        },
        {
         "name": "5",
         "rawType": "object",
         "type": "string"
        },
        {
         "name": "6",
         "rawType": "object",
         "type": "string"
        }
       ],
       "conversionMethod": "pd.DataFrame",
       "ref": "4c045196-e9f0-49d0-b9d1-39731175bd40",
       "rows": [
        [
         "0",
         "vhigh",
         "vhigh",
         "2",
         "2",
         "small",
         "low",
         "unacc"
        ],
        [
         "1",
         "vhigh",
         "vhigh",
         "2",
         "2",
         "small",
         "med",
         "unacc"
        ],
        [
         "2",
         "vhigh",
         "vhigh",
         "2",
         "2",
         "small",
         "high",
         "unacc"
        ],
        [
         "3",
         "vhigh",
         "vhigh",
         "2",
         "2",
         "med",
         "low",
         "unacc"
        ],
        [
         "4",
         "vhigh",
         "vhigh",
         "2",
         "2",
         "med",
         "med",
         "unacc"
        ]
       ],
       "shape": {
        "columns": 7,
        "rows": 5
       }
      },
      "text/html": [
       "<div>\n",
       "<style scoped>\n",
       "    .dataframe tbody tr th:only-of-type {\n",
       "        vertical-align: middle;\n",
       "    }\n",
       "\n",
       "    .dataframe tbody tr th {\n",
       "        vertical-align: top;\n",
       "    }\n",
       "\n",
       "    .dataframe thead th {\n",
       "        text-align: right;\n",
       "    }\n",
       "</style>\n",
       "<table border=\"1\" class=\"dataframe\">\n",
       "  <thead>\n",
       "    <tr style=\"text-align: right;\">\n",
       "      <th></th>\n",
       "      <th>0</th>\n",
       "      <th>1</th>\n",
       "      <th>2</th>\n",
       "      <th>3</th>\n",
       "      <th>4</th>\n",
       "      <th>5</th>\n",
       "      <th>6</th>\n",
       "    </tr>\n",
       "  </thead>\n",
       "  <tbody>\n",
       "    <tr>\n",
       "      <th>0</th>\n",
       "      <td>vhigh</td>\n",
       "      <td>vhigh</td>\n",
       "      <td>2</td>\n",
       "      <td>2</td>\n",
       "      <td>small</td>\n",
       "      <td>low</td>\n",
       "      <td>unacc</td>\n",
       "    </tr>\n",
       "    <tr>\n",
       "      <th>1</th>\n",
       "      <td>vhigh</td>\n",
       "      <td>vhigh</td>\n",
       "      <td>2</td>\n",
       "      <td>2</td>\n",
       "      <td>small</td>\n",
       "      <td>med</td>\n",
       "      <td>unacc</td>\n",
       "    </tr>\n",
       "    <tr>\n",
       "      <th>2</th>\n",
       "      <td>vhigh</td>\n",
       "      <td>vhigh</td>\n",
       "      <td>2</td>\n",
       "      <td>2</td>\n",
       "      <td>small</td>\n",
       "      <td>high</td>\n",
       "      <td>unacc</td>\n",
       "    </tr>\n",
       "    <tr>\n",
       "      <th>3</th>\n",
       "      <td>vhigh</td>\n",
       "      <td>vhigh</td>\n",
       "      <td>2</td>\n",
       "      <td>2</td>\n",
       "      <td>med</td>\n",
       "      <td>low</td>\n",
       "      <td>unacc</td>\n",
       "    </tr>\n",
       "    <tr>\n",
       "      <th>4</th>\n",
       "      <td>vhigh</td>\n",
       "      <td>vhigh</td>\n",
       "      <td>2</td>\n",
       "      <td>2</td>\n",
       "      <td>med</td>\n",
       "      <td>med</td>\n",
       "      <td>unacc</td>\n",
       "    </tr>\n",
       "  </tbody>\n",
       "</table>\n",
       "</div>"
      ],
      "text/plain": [
       "       0      1  2  3      4     5      6\n",
       "0  vhigh  vhigh  2  2  small   low  unacc\n",
       "1  vhigh  vhigh  2  2  small   med  unacc\n",
       "2  vhigh  vhigh  2  2  small  high  unacc\n",
       "3  vhigh  vhigh  2  2    med   low  unacc\n",
       "4  vhigh  vhigh  2  2    med   med  unacc"
      ]
     },
     "execution_count": 2,
     "metadata": {},
     "output_type": "execute_result"
    }
   ],
   "source": [
    "df = pd.read_csv(\"~/dev/gachon-ai/datasets/car_evaluation.csv\", header=None)\n",
    "df.head()"
   ]
  },
  {
   "cell_type": "code",
   "execution_count": 3,
   "metadata": {},
   "outputs": [
    {
     "data": {
      "text/plain": [
       "0    0\n",
       "1    0\n",
       "2    0\n",
       "3    0\n",
       "4    0\n",
       "5    0\n",
       "6    0\n",
       "dtype: int64"
      ]
     },
     "execution_count": 3,
     "metadata": {},
     "output_type": "execute_result"
    }
   ],
   "source": [
    "df.isnull().sum()"
   ]
  },
  {
   "cell_type": "code",
   "execution_count": null,
   "metadata": {},
   "outputs": [
    {
     "data": {
      "application/vnd.microsoft.datawrangler.viewer.v0+json": {
       "columns": [
        {
         "name": "index",
         "rawType": "int64",
         "type": "integer"
        },
        {
         "name": "0",
         "rawType": "int64",
         "type": "integer"
        },
        {
         "name": "1",
         "rawType": "int64",
         "type": "integer"
        },
        {
         "name": "2",
         "rawType": "int64",
         "type": "integer"
        },
        {
         "name": "3",
         "rawType": "int64",
         "type": "integer"
        },
        {
         "name": "4",
         "rawType": "int64",
         "type": "integer"
        },
        {
         "name": "5",
         "rawType": "int64",
         "type": "integer"
        },
        {
         "name": "6",
         "rawType": "int64",
         "type": "integer"
        }
       ],
       "conversionMethod": "pd.DataFrame",
       "ref": "098c2227-8ffb-444c-914e-91a43a91e5e8",
       "rows": [
        [
         "0",
         "3",
         "3",
         "0",
         "0",
         "2",
         "1",
         "2"
        ],
        [
         "1",
         "3",
         "3",
         "0",
         "0",
         "2",
         "2",
         "2"
        ],
        [
         "2",
         "3",
         "3",
         "0",
         "0",
         "2",
         "0",
         "2"
        ],
        [
         "3",
         "3",
         "3",
         "0",
         "0",
         "1",
         "1",
         "2"
        ],
        [
         "4",
         "3",
         "3",
         "0",
         "0",
         "1",
         "2",
         "2"
        ],
        [
         "5",
         "3",
         "3",
         "0",
         "0",
         "1",
         "0",
         "2"
        ],
        [
         "6",
         "3",
         "3",
         "0",
         "0",
         "0",
         "1",
         "2"
        ],
        [
         "7",
         "3",
         "3",
         "0",
         "0",
         "0",
         "2",
         "2"
        ],
        [
         "8",
         "3",
         "3",
         "0",
         "0",
         "0",
         "0",
         "2"
        ],
        [
         "9",
         "3",
         "3",
         "0",
         "1",
         "2",
         "1",
         "2"
        ],
        [
         "10",
         "3",
         "3",
         "0",
         "1",
         "2",
         "2",
         "2"
        ],
        [
         "11",
         "3",
         "3",
         "0",
         "1",
         "2",
         "0",
         "2"
        ],
        [
         "12",
         "3",
         "3",
         "0",
         "1",
         "1",
         "1",
         "2"
        ],
        [
         "13",
         "3",
         "3",
         "0",
         "1",
         "1",
         "2",
         "2"
        ],
        [
         "14",
         "3",
         "3",
         "0",
         "1",
         "1",
         "0",
         "2"
        ],
        [
         "15",
         "3",
         "3",
         "0",
         "1",
         "0",
         "1",
         "2"
        ],
        [
         "16",
         "3",
         "3",
         "0",
         "1",
         "0",
         "2",
         "2"
        ],
        [
         "17",
         "3",
         "3",
         "0",
         "1",
         "0",
         "0",
         "2"
        ],
        [
         "18",
         "3",
         "3",
         "0",
         "2",
         "2",
         "1",
         "2"
        ],
        [
         "19",
         "3",
         "3",
         "0",
         "2",
         "2",
         "2",
         "2"
        ],
        [
         "20",
         "3",
         "3",
         "0",
         "2",
         "2",
         "0",
         "2"
        ],
        [
         "21",
         "3",
         "3",
         "0",
         "2",
         "1",
         "1",
         "2"
        ],
        [
         "22",
         "3",
         "3",
         "0",
         "2",
         "1",
         "2",
         "2"
        ],
        [
         "23",
         "3",
         "3",
         "0",
         "2",
         "1",
         "0",
         "2"
        ],
        [
         "24",
         "3",
         "3",
         "0",
         "2",
         "0",
         "1",
         "2"
        ],
        [
         "25",
         "3",
         "3",
         "0",
         "2",
         "0",
         "2",
         "2"
        ],
        [
         "26",
         "3",
         "3",
         "0",
         "2",
         "0",
         "0",
         "2"
        ],
        [
         "27",
         "3",
         "3",
         "1",
         "0",
         "2",
         "1",
         "2"
        ],
        [
         "28",
         "3",
         "3",
         "1",
         "0",
         "2",
         "2",
         "2"
        ],
        [
         "29",
         "3",
         "3",
         "1",
         "0",
         "2",
         "0",
         "2"
        ],
        [
         "30",
         "3",
         "3",
         "1",
         "0",
         "1",
         "1",
         "2"
        ],
        [
         "31",
         "3",
         "3",
         "1",
         "0",
         "1",
         "2",
         "2"
        ],
        [
         "32",
         "3",
         "3",
         "1",
         "0",
         "1",
         "0",
         "2"
        ],
        [
         "33",
         "3",
         "3",
         "1",
         "0",
         "0",
         "1",
         "2"
        ],
        [
         "34",
         "3",
         "3",
         "1",
         "0",
         "0",
         "2",
         "2"
        ],
        [
         "35",
         "3",
         "3",
         "1",
         "0",
         "0",
         "0",
         "2"
        ],
        [
         "36",
         "3",
         "3",
         "1",
         "1",
         "2",
         "1",
         "2"
        ],
        [
         "37",
         "3",
         "3",
         "1",
         "1",
         "2",
         "2",
         "2"
        ],
        [
         "38",
         "3",
         "3",
         "1",
         "1",
         "2",
         "0",
         "2"
        ],
        [
         "39",
         "3",
         "3",
         "1",
         "1",
         "1",
         "1",
         "2"
        ],
        [
         "40",
         "3",
         "3",
         "1",
         "1",
         "1",
         "2",
         "2"
        ],
        [
         "41",
         "3",
         "3",
         "1",
         "1",
         "1",
         "0",
         "2"
        ],
        [
         "42",
         "3",
         "3",
         "1",
         "1",
         "0",
         "1",
         "2"
        ],
        [
         "43",
         "3",
         "3",
         "1",
         "1",
         "0",
         "2",
         "2"
        ],
        [
         "44",
         "3",
         "3",
         "1",
         "1",
         "0",
         "0",
         "2"
        ],
        [
         "45",
         "3",
         "3",
         "1",
         "2",
         "2",
         "1",
         "2"
        ],
        [
         "46",
         "3",
         "3",
         "1",
         "2",
         "2",
         "2",
         "2"
        ],
        [
         "47",
         "3",
         "3",
         "1",
         "2",
         "2",
         "0",
         "2"
        ],
        [
         "48",
         "3",
         "3",
         "1",
         "2",
         "1",
         "1",
         "2"
        ],
        [
         "49",
         "3",
         "3",
         "1",
         "2",
         "1",
         "2",
         "2"
        ]
       ],
       "shape": {
        "columns": 7,
        "rows": 1728
       }
      },
      "text/html": [
       "<div>\n",
       "<style scoped>\n",
       "    .dataframe tbody tr th:only-of-type {\n",
       "        vertical-align: middle;\n",
       "    }\n",
       "\n",
       "    .dataframe tbody tr th {\n",
       "        vertical-align: top;\n",
       "    }\n",
       "\n",
       "    .dataframe thead th {\n",
       "        text-align: right;\n",
       "    }\n",
       "</style>\n",
       "<table border=\"1\" class=\"dataframe\">\n",
       "  <thead>\n",
       "    <tr style=\"text-align: right;\">\n",
       "      <th></th>\n",
       "      <th>0</th>\n",
       "      <th>1</th>\n",
       "      <th>2</th>\n",
       "      <th>3</th>\n",
       "      <th>4</th>\n",
       "      <th>5</th>\n",
       "      <th>6</th>\n",
       "    </tr>\n",
       "  </thead>\n",
       "  <tbody>\n",
       "    <tr>\n",
       "      <th>0</th>\n",
       "      <td>3</td>\n",
       "      <td>3</td>\n",
       "      <td>0</td>\n",
       "      <td>0</td>\n",
       "      <td>2</td>\n",
       "      <td>1</td>\n",
       "      <td>2</td>\n",
       "    </tr>\n",
       "    <tr>\n",
       "      <th>1</th>\n",
       "      <td>3</td>\n",
       "      <td>3</td>\n",
       "      <td>0</td>\n",
       "      <td>0</td>\n",
       "      <td>2</td>\n",
       "      <td>2</td>\n",
       "      <td>2</td>\n",
       "    </tr>\n",
       "    <tr>\n",
       "      <th>2</th>\n",
       "      <td>3</td>\n",
       "      <td>3</td>\n",
       "      <td>0</td>\n",
       "      <td>0</td>\n",
       "      <td>2</td>\n",
       "      <td>0</td>\n",
       "      <td>2</td>\n",
       "    </tr>\n",
       "    <tr>\n",
       "      <th>3</th>\n",
       "      <td>3</td>\n",
       "      <td>3</td>\n",
       "      <td>0</td>\n",
       "      <td>0</td>\n",
       "      <td>1</td>\n",
       "      <td>1</td>\n",
       "      <td>2</td>\n",
       "    </tr>\n",
       "    <tr>\n",
       "      <th>4</th>\n",
       "      <td>3</td>\n",
       "      <td>3</td>\n",
       "      <td>0</td>\n",
       "      <td>0</td>\n",
       "      <td>1</td>\n",
       "      <td>2</td>\n",
       "      <td>2</td>\n",
       "    </tr>\n",
       "    <tr>\n",
       "      <th>...</th>\n",
       "      <td>...</td>\n",
       "      <td>...</td>\n",
       "      <td>...</td>\n",
       "      <td>...</td>\n",
       "      <td>...</td>\n",
       "      <td>...</td>\n",
       "      <td>...</td>\n",
       "    </tr>\n",
       "    <tr>\n",
       "      <th>1723</th>\n",
       "      <td>1</td>\n",
       "      <td>1</td>\n",
       "      <td>3</td>\n",
       "      <td>2</td>\n",
       "      <td>1</td>\n",
       "      <td>2</td>\n",
       "      <td>1</td>\n",
       "    </tr>\n",
       "    <tr>\n",
       "      <th>1724</th>\n",
       "      <td>1</td>\n",
       "      <td>1</td>\n",
       "      <td>3</td>\n",
       "      <td>2</td>\n",
       "      <td>1</td>\n",
       "      <td>0</td>\n",
       "      <td>3</td>\n",
       "    </tr>\n",
       "    <tr>\n",
       "      <th>1725</th>\n",
       "      <td>1</td>\n",
       "      <td>1</td>\n",
       "      <td>3</td>\n",
       "      <td>2</td>\n",
       "      <td>0</td>\n",
       "      <td>1</td>\n",
       "      <td>2</td>\n",
       "    </tr>\n",
       "    <tr>\n",
       "      <th>1726</th>\n",
       "      <td>1</td>\n",
       "      <td>1</td>\n",
       "      <td>3</td>\n",
       "      <td>2</td>\n",
       "      <td>0</td>\n",
       "      <td>2</td>\n",
       "      <td>1</td>\n",
       "    </tr>\n",
       "    <tr>\n",
       "      <th>1727</th>\n",
       "      <td>1</td>\n",
       "      <td>1</td>\n",
       "      <td>3</td>\n",
       "      <td>2</td>\n",
       "      <td>0</td>\n",
       "      <td>0</td>\n",
       "      <td>3</td>\n",
       "    </tr>\n",
       "  </tbody>\n",
       "</table>\n",
       "<p>1728 rows × 7 columns</p>\n",
       "</div>"
      ],
      "text/plain": [
       "      0  1  2  3  4  5  6\n",
       "0     3  3  0  0  2  1  2\n",
       "1     3  3  0  0  2  2  2\n",
       "2     3  3  0  0  2  0  2\n",
       "3     3  3  0  0  1  1  2\n",
       "4     3  3  0  0  1  2  2\n",
       "...  .. .. .. .. .. .. ..\n",
       "1723  1  1  3  2  1  2  1\n",
       "1724  1  1  3  2  1  0  3\n",
       "1725  1  1  3  2  0  1  2\n",
       "1726  1  1  3  2  0  2  1\n",
       "1727  1  1  3  2  0  0  3\n",
       "\n",
       "[1728 rows x 7 columns]"
      ]
     },
     "execution_count": 4,
     "metadata": {},
     "output_type": "execute_result"
    }
   ],
   "source": [
    "label_encoder = LabelEncoder()\n",
    "columns_to_encode = [0, 1, 2, 3, 4, 5, 6]\n",
    "for column in columns_to_encode:\n",
    "    df[column] = label_encoder.fit_transform(df[column])\n",
    "    \n",
    "df"
   ]
  },
  {
   "cell_type": "code",
   "execution_count": 5,
   "metadata": {},
   "outputs": [],
   "source": [
    "x = df.drop(6, axis=1)\n",
    "y = df[6]\n",
    "x_train, x_test, y_train, y_test = train_test_split(x, y, test_size=0.2, random_state=42)"
   ]
  },
  {
   "cell_type": "code",
   "execution_count": 6,
   "metadata": {},
   "outputs": [
    {
     "data": {
      "application/vnd.microsoft.datawrangler.viewer.v0+json": {
       "columns": [
        {
         "name": "index",
         "rawType": "int64",
         "type": "integer"
        },
        {
         "name": "0",
         "rawType": "int64",
         "type": "integer"
        },
        {
         "name": "1",
         "rawType": "int64",
         "type": "integer"
        },
        {
         "name": "2",
         "rawType": "int64",
         "type": "integer"
        },
        {
         "name": "3",
         "rawType": "int64",
         "type": "integer"
        },
        {
         "name": "4",
         "rawType": "int64",
         "type": "integer"
        },
        {
         "name": "5",
         "rawType": "int64",
         "type": "integer"
        }
       ],
       "conversionMethod": "pd.DataFrame",
       "ref": "17da3f06-4398-4d47-92a4-8ddded57b942",
       "rows": [
        [
         "599",
         "0",
         "0",
         "2",
         "0",
         "1",
         "0"
        ],
        [
         "1201",
         "2",
         "1",
         "0",
         "1",
         "1",
         "2"
        ],
        [
         "628",
         "0",
         "0",
         "3",
         "0",
         "0",
         "2"
        ],
        [
         "1498",
         "1",
         "0",
         "3",
         "1",
         "1",
         "2"
        ],
        [
         "1263",
         "2",
         "1",
         "2",
         "2",
         "1",
         "1"
        ]
       ],
       "shape": {
        "columns": 6,
        "rows": 5
       }
      },
      "text/html": [
       "<div>\n",
       "<style scoped>\n",
       "    .dataframe tbody tr th:only-of-type {\n",
       "        vertical-align: middle;\n",
       "    }\n",
       "\n",
       "    .dataframe tbody tr th {\n",
       "        vertical-align: top;\n",
       "    }\n",
       "\n",
       "    .dataframe thead th {\n",
       "        text-align: right;\n",
       "    }\n",
       "</style>\n",
       "<table border=\"1\" class=\"dataframe\">\n",
       "  <thead>\n",
       "    <tr style=\"text-align: right;\">\n",
       "      <th></th>\n",
       "      <th>0</th>\n",
       "      <th>1</th>\n",
       "      <th>2</th>\n",
       "      <th>3</th>\n",
       "      <th>4</th>\n",
       "      <th>5</th>\n",
       "    </tr>\n",
       "  </thead>\n",
       "  <tbody>\n",
       "    <tr>\n",
       "      <th>599</th>\n",
       "      <td>0</td>\n",
       "      <td>0</td>\n",
       "      <td>2</td>\n",
       "      <td>0</td>\n",
       "      <td>1</td>\n",
       "      <td>0</td>\n",
       "    </tr>\n",
       "    <tr>\n",
       "      <th>1201</th>\n",
       "      <td>2</td>\n",
       "      <td>1</td>\n",
       "      <td>0</td>\n",
       "      <td>1</td>\n",
       "      <td>1</td>\n",
       "      <td>2</td>\n",
       "    </tr>\n",
       "    <tr>\n",
       "      <th>628</th>\n",
       "      <td>0</td>\n",
       "      <td>0</td>\n",
       "      <td>3</td>\n",
       "      <td>0</td>\n",
       "      <td>0</td>\n",
       "      <td>2</td>\n",
       "    </tr>\n",
       "    <tr>\n",
       "      <th>1498</th>\n",
       "      <td>1</td>\n",
       "      <td>0</td>\n",
       "      <td>3</td>\n",
       "      <td>1</td>\n",
       "      <td>1</td>\n",
       "      <td>2</td>\n",
       "    </tr>\n",
       "    <tr>\n",
       "      <th>1263</th>\n",
       "      <td>2</td>\n",
       "      <td>1</td>\n",
       "      <td>2</td>\n",
       "      <td>2</td>\n",
       "      <td>1</td>\n",
       "      <td>1</td>\n",
       "    </tr>\n",
       "  </tbody>\n",
       "</table>\n",
       "</div>"
      ],
      "text/plain": [
       "      0  1  2  3  4  5\n",
       "599   0  0  2  0  1  0\n",
       "1201  2  1  0  1  1  2\n",
       "628   0  0  3  0  0  2\n",
       "1498  1  0  3  1  1  2\n",
       "1263  2  1  2  2  1  1"
      ]
     },
     "execution_count": 6,
     "metadata": {},
     "output_type": "execute_result"
    }
   ],
   "source": [
    "x_test[:5]"
   ]
  },
  {
   "cell_type": "code",
   "execution_count": 7,
   "metadata": {},
   "outputs": [
    {
     "data": {
      "text/plain": [
       "599     2\n",
       "1201    0\n",
       "628     2\n",
       "1498    0\n",
       "1263    2\n",
       "Name: 6, dtype: int64"
      ]
     },
     "execution_count": 7,
     "metadata": {},
     "output_type": "execute_result"
    }
   ],
   "source": [
    "y_test[:5]"
   ]
  }
 ],
 "metadata": {
  "kernelspec": {
   "display_name": "gachon-ai",
   "language": "python",
   "name": "python3"
  },
  "language_info": {
   "codemirror_mode": {
    "name": "ipython",
    "version": 3
   },
   "file_extension": ".py",
   "mimetype": "text/x-python",
   "name": "python",
   "nbconvert_exporter": "python",
   "pygments_lexer": "ipython3",
   "version": "3.8.20"
  }
 },
 "nbformat": 4,
 "nbformat_minor": 2
}
